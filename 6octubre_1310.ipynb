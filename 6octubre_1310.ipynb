{
  "nbformat": 4,
  "nbformat_minor": 0,
  "metadata": {
    "colab": {
      "name": "6octubre_1310.ipynb",
      "provenance": [],
      "collapsed_sections": [],
      "authorship_tag": "ABX9TyP3ogqfrrHLjX/J/kmD2IO9",
      "include_colab_link": true
    },
    "kernelspec": {
      "name": "python3",
      "display_name": "Python 3"
    }
  },
  "cells": [
    {
      "cell_type": "markdown",
      "metadata": {
        "id": "view-in-github",
        "colab_type": "text"
      },
      "source": [
        "<a href=\"https://colab.research.google.com/github/axelnerilucero/edd_1310_2021/blob/master/6octubre_1310.ipynb\" target=\"_parent\"><img src=\"https://colab.research.google.com/assets/colab-badge.svg\" alt=\"Open In Colab\"/></a>"
      ]
    },
    {
      "cell_type": "code",
      "metadata": {
        "id": "IqW6STvwEpcQ",
        "outputId": "68a474ae-7d54-4e0e-aad6-250c825f41b4",
        "colab": {
          "base_uri": "https://localhost:8080/",
          "height": 170
        }
      },
      "source": [
        "#String continuación\n",
        "numeros_txt = \"   1,2, 3,   4,   5   , 35,     15,    12\"\n",
        "print (numeros_txt)\n",
        "numeros_txt = numeros_txt.lstrip().split(',')\n",
        "print (numeros_txt)\n",
        "for j in range(len(numeros_txt)):\n",
        "  numeros_txt[j] = int(numeros_txt[j].strip())\n",
        "print (numeros_txt)\n",
        "\n",
        "#funcion range()\n",
        "\n",
        "#range(inicio, stop, incremento)\n",
        "print (range(1,10,3))\n",
        "rango = range(1,10,2)\n",
        "\n",
        "for x in rango :\n",
        "  print (x)\n"
      ],
      "execution_count": 5,
      "outputs": [
        {
          "output_type": "stream",
          "text": [
            "   1,2, 3,   4,   5   , 35,     15,    12\n",
            "['1', '2', ' 3', '   4', '   5   ', ' 35', '     15', '    12']\n",
            "[1, 2, 3, 4, 5, 35, 15, 12]\n",
            "range(1, 10, 3)\n",
            "1\n",
            "3\n",
            "5\n",
            "7\n",
            "9\n"
          ],
          "name": "stdout"
        }
      ]
    },
    {
      "cell_type": "markdown",
      "metadata": {
        "id": "Z6yRfymaxH1Z"
      },
      "source": [
        "\n",
        "# listas\n",
        "- mutables\n",
        "- declaran con [ ]\n",
        "- selector [int]\n",
        "- pueden ser de cualquier tipo y mezclado\n",
        "\n",
        "#tuplas\n",
        "- NO mutables\n",
        "- declaran con ( )\n",
        "- selectos [int]\n",
        "\n",
        "#diccionarios\n",
        "- son mutables \n",
        "- son conjunto depares llave:valor\n",
        "- equivalente a los Objecot JSON de javascript\n",
        "\n",
        "#conjuntos \n",
        "- representacion de la teoria de conjuntos"
      ]
    },
    {
      "cell_type": "code",
      "metadata": {
        "id": "0t0lQ1towNGh",
        "outputId": "1f0074fc-0a52-4f25-c678-b05bd84980fc",
        "colab": {
          "base_uri": "https://localhost:8080/",
          "height": 136
        }
      },
      "source": [
        "#listas\n",
        "frutas = [\"pera\", \"manzana\", \"fresa\", \"kiwi\", \"naranja\"]\n",
        "print (frutas)\n",
        "cosas = [\"cuaderno\", 2, 3.1416, True, False, [\"rojo\", \"azul\"]]\n",
        "print (cosas)\n",
        "frutas [2] = \"Fresa\" #frutas[2]=frutas[2].capitalize\n",
        "print (frutas)\n",
        "\n",
        "#agregar a lista\n",
        "frutas.append(\"Aguacate\") #agregar al final\n",
        "print(frutas)\n",
        "\n",
        "frutas.insert(2, \"sandia\") #agergar en una posicion exacta\n",
        "print (frutas)\n",
        "\n",
        "#concatenar listas\n",
        "fecha = [\"06\", \"10\", \"2020\"] #06/10/2020\n",
        "print (fecha)\n",
        "fecha_str = \"/\".join(fecha)\n",
        "print (fecha_str)\n",
        "\n"
      ],
      "execution_count": 26,
      "outputs": [
        {
          "output_type": "stream",
          "text": [
            "['pera', 'manzana', 'fresa', 'kiwi', 'naranja']\n",
            "['cuaderno', 2, 3.1416, True, False, ['rojo', 'azul']]\n",
            "['pera', 'manzana', 'Fresa', 'kiwi', 'naranja']\n",
            "['pera', 'manzana', 'Fresa', 'kiwi', 'naranja', 'Aguacate']\n",
            "['pera', 'manzana', 'sandia', 'Fresa', 'kiwi', 'naranja', 'Aguacate']\n",
            "['06', '10', '2020']\n",
            "06/10/2020\n"
          ],
          "name": "stdout"
        }
      ]
    },
    {
      "cell_type": "code",
      "metadata": {
        "id": "dSqXLrD03Wd1",
        "outputId": "c2c76244-b3dd-4bc9-d4a3-248e66ee68b8",
        "colab": {
          "base_uri": "https://localhost:8080/",
          "height": 187
        }
      },
      "source": [
        "\n",
        "#eliminar elementos\n",
        "cosas = [\"cuaderno\", 2, 3.1416, True, False, [\"rojo\", \"azul\"]]\n",
        "print (cosas)\n",
        "cosas.append(\"Libro\")\n",
        "cosas.append(\"lapiz\")\n",
        "print (cosas)\n",
        "algo = cosas.pop() #elimina el ultimo elemento\n",
        "print (cosas)\n",
        "print (algo)\n",
        "\n",
        "algo = cosas.pop(2) #elimina un elemento especifico\n",
        "print (cosas)\n",
        "print (algo)\n",
        "\n",
        "cosas.remove(2)\n",
        "print (cosas)\n",
        "\n",
        "#vaciar una lista\n",
        "\n",
        "#cosas.clear()\n",
        "print (cosas)\n",
        "\n",
        "#ordenar las listas\n",
        "print (frutas)\n",
        "frutas.sort()\n",
        "print(frutas)\n",
        "\n",
        "\n"
      ],
      "execution_count": 30,
      "outputs": [
        {
          "output_type": "stream",
          "text": [
            "['cuaderno', 2, 3.1416, True, False, ['rojo', 'azul']]\n",
            "['cuaderno', 2, 3.1416, True, False, ['rojo', 'azul'], 'Libro', 'lapiz']\n",
            "['cuaderno', 2, 3.1416, True, False, ['rojo', 'azul'], 'Libro']\n",
            "lapiz\n",
            "['cuaderno', 2, True, False, ['rojo', 'azul'], 'Libro']\n",
            "3.1416\n",
            "['cuaderno', True, False, ['rojo', 'azul'], 'Libro']\n",
            "['cuaderno', True, False, ['rojo', 'azul'], 'Libro']\n",
            "['Aguacate', 'Fresa', 'kiwi', 'manzana', 'naranja', 'pera', 'sandia']\n",
            "['Aguacate', 'Fresa', 'kiwi', 'manzana', 'naranja', 'pera', 'sandia']\n"
          ],
          "name": "stdout"
        }
      ]
    },
    {
      "cell_type": "code",
      "metadata": {
        "id": "wOz6vetzwIdv"
      },
      "source": [
        "help(list)\n"
      ],
      "execution_count": null,
      "outputs": []
    },
    {
      "cell_type": "code",
      "metadata": {
        "id": "XbkYnt_XsF08",
        "outputId": "5bb091f9-048f-4a89-dcf3-05b616d3658f",
        "colab": {
          "base_uri": "https://localhost:8080/",
          "height": 102
        }
      },
      "source": [
        "#Slicing \n",
        "cosas = [\"cuaderno\", 2, 3.1416, True, False, [\"rojo\", \"azul\"]]\n",
        "print (cosas[3:5:1])\n",
        "print (cosas[0][3:5:1])\n",
        "\n",
        "numeros = [0,1,2,3,4,5,6,7,8,9,10,11,12,13,14,15]\n",
        "print (numeros[8:13:1])\n",
        "\n",
        "\n",
        "#sustituir rebanadas -2,-2 -> ○10,1,2,3,4,5,6,7,-2,-2\n",
        "\n",
        "numeros [8:13:] = [-2,-2]\n",
        "print (numeros)\n",
        "\n",
        "\n",
        "# preguntar por existencia\n",
        "\n",
        "print (-9 in numeros)\n",
        "\n",
        "\n"
      ],
      "execution_count": 36,
      "outputs": [
        {
          "output_type": "stream",
          "text": [
            "[True, False]\n",
            "de\n",
            "[8, 9, 10, 11, 12]\n",
            "[0, 1, 2, 3, 4, 5, 6, 7, -2, -2, 13, 14, 15]\n",
            "False\n"
          ],
          "name": "stdout"
        }
      ]
    },
    {
      "cell_type": "markdown",
      "metadata": {
        "id": "yd8PmZWq-kQJ"
      },
      "source": [
        "#listas multidimensión\n",
        "listas dentro de listas"
      ]
    },
    {
      "cell_type": "code",
      "metadata": {
        "id": "57Ktl15c9W0O",
        "outputId": "7a0e69d4-d59f-4f55-a35e-9a1670167313",
        "colab": {
          "base_uri": "https://localhost:8080/",
          "height": 190
        }
      },
      "source": [
        "computadoras =[\"HP\", \"MacBook Pro 17\", \"MateBook\", \"Lenovo Legion\"]\n",
        "oss = [\"Windows 10\", \"Linux\", \"Andorid\", \"iOS\"]\n",
        "computo = [computadoras , oss]\n",
        "print (computo[0])\n",
        "print (computo[1])\n",
        "print (computo[0][2])\n",
        "print (computo[0][2][0:4])\n",
        "print (computo[0][3][5: :-1])\n",
        "print (computo[0][3][-8: :-1])\n",
        "\n",
        "dbms = [[\"Mysqul\", \"Open soruce\", False],[\"MS SQL server\", \"de paga\", True]]\n",
        "computo.append(dbms)\n",
        "print (computo)\n",
        "print (computo[2][0][0])\n",
        "print (computo[2][1][1])"
      ],
      "execution_count": 49,
      "outputs": [
        {
          "output_type": "stream",
          "text": [
            "['HP', 'MacBook Pro 17', 'MateBook', 'Lenovo Legion']\n",
            "['Windows 10', 'Linux', 'Andorid', 'iOS']\n",
            "MateBook\n",
            "Mate\n",
            "ovoneL\n",
            "ovoneL\n",
            "[['HP', 'MacBook Pro 17', 'MateBook', 'Lenovo Legion'], ['Windows 10', 'Linux', 'Andorid', 'iOS'], [['Mysqul', 'Open soruce', False], ['MS SQL server', 'de paga', True]]]\n",
            "Mysqul\n",
            "de paga\n"
          ],
          "name": "stdout"
        }
      ]
    },
    {
      "cell_type": "code",
      "metadata": {
        "id": "izdNVXjJ_stF"
      },
      "source": [
        ""
      ],
      "execution_count": null,
      "outputs": []
    }
  ]
}