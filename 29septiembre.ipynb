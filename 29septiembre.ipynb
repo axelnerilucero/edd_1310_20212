{
  "nbformat": 4,
  "nbformat_minor": 0,
  "metadata": {
    "colab": {
      "name": "Untitled2.ipynb",
      "provenance": [],
      "collapsed_sections": [],
      "authorship_tag": "ABX9TyOzi+BqEJ+HNtdUAqb2igsB",
      "include_colab_link": true
    },
    "kernelspec": {
      "name": "python3",
      "display_name": "Python 3"
    }
  },
  "cells": [
    {
      "cell_type": "markdown",
      "metadata": {
        "id": "view-in-github",
        "colab_type": "text"
      },
      "source": [
        "<a href=\"https://colab.research.google.com/github/axelnerilucero/edd_1310_2021/blob/master/29septiembre.ipynb\" target=\"_parent\"><img src=\"https://colab.research.google.com/assets/colab-badge.svg\" alt=\"Open In Colab\"/></a>"
      ]
    },
    {
      "cell_type": "code",
      "metadata": {
        "id": "OSpFjhZ3s45H"
      },
      "source": [
        "edad = 10"
      ],
      "execution_count": 2,
      "outputs": []
    },
    {
      "cell_type": "code",
      "metadata": {
        "id": "RWowOvC7vNj1",
        "outputId": "61126997-7e60-48fe-8447-60996f966bb0",
        "colab": {
          "base_uri": "https://localhost:8080/",
          "height": 51
        }
      },
      "source": [
        "print (edad)\n",
        "colores = ['rojo','azul','verde','morado','violeta']\n",
        "print (colores)"
      ],
      "execution_count": 7,
      "outputs": [
        {
          "output_type": "stream",
          "text": [
            "10\n",
            "['rojo', 'azul', 'verde', 'morado', 'violeta']\n"
          ],
          "name": "stdout"
        }
      ]
    },
    {
      "cell_type": "code",
      "metadata": {
        "id": "Fz_JN-ijv0q5"
      },
      "source": [
        ""
      ],
      "execution_count": null,
      "outputs": []
    },
    {
      "cell_type": "code",
      "metadata": {
        "id": "fFlDb21Vwgfa",
        "outputId": "210604b0-66e0-4e8a-9345-94b1f3aec005",
        "colab": {
          "base_uri": "https://localhost:8080/",
          "height": 34
        }
      },
      "source": [
        "\n",
        "print (colores[3])"
      ],
      "execution_count": 8,
      "outputs": [
        {
          "output_type": "stream",
          "text": [
            "morado\n"
          ],
          "name": "stdout"
        }
      ]
    },
    {
      "cell_type": "code",
      "metadata": {
        "id": "1kRehTa2wucc",
        "outputId": "073aefb6-8b6d-4ee3-f493-038f22ee2ab5",
        "colab": {
          "base_uri": "https://localhost:8080/",
          "height": 68
        }
      },
      "source": [
        "#solo mostrar la ra de morado\n",
        "print (colores[3][2:4])\n",
        "nombre = \"Alberto\"\n",
        "print (nombre[0])\n",
        "print (nombre[0:3:1])\n"
      ],
      "execution_count": 10,
      "outputs": [
        {
          "output_type": "stream",
          "text": [
            "ra\n",
            "A\n",
            "Alb\n"
          ],
          "name": "stdout"
        }
      ]
    },
    {
      "cell_type": "markdown",
      "metadata": {
        "id": "9VtbrE_YyLHN"
      },
      "source": [
        "# for en python 3\n",
        "2 variantes \n",
        "1. j in range(ini, tope, incremento)\n",
        "2. (in <iterador)"
      ]
    },
    {
      "cell_type": "code",
      "metadata": {
        "id": "zgVBJiUExbQi",
        "outputId": "939ef64c-a492-4c9d-992c-92e318fda818",
        "colab": {
          "base_uri": "https://localhost:8080/",
          "height": 102
        }
      },
      "source": [
        "for j in range (0,5,1):\n",
        "  print (colores[j])"
      ],
      "execution_count": 11,
      "outputs": [
        {
          "output_type": "stream",
          "text": [
            "rojo\n",
            "azul\n",
            "verde\n",
            "morado\n",
            "violeta\n"
          ],
          "name": "stdout"
        }
      ]
    },
    {
      "cell_type": "code",
      "metadata": {
        "id": "x-RfE9G9z5I2",
        "outputId": "3a32a1cb-f104-4225-b76c-9441dac11b75",
        "colab": {
          "base_uri": "https://localhost:8080/",
          "height": 102
        }
      },
      "source": [
        "for color in colores:\n",
        "  print (color)"
      ],
      "execution_count": 12,
      "outputs": [
        {
          "output_type": "stream",
          "text": [
            "rojo\n",
            "azul\n",
            "verde\n",
            "morado\n",
            "violeta\n"
          ],
          "name": "stdout"
        }
      ]
    },
    {
      "cell_type": "code",
      "metadata": {
        "id": "zgETmu-i0hus",
        "outputId": "58a87ed2-f5f8-40b1-cd76-d57a8774e945",
        "colab": {
          "base_uri": "https://localhost:8080/",
          "height": 136
        }
      },
      "source": [
        "for j in range (0,7,1):\n",
        "  print (nombre[j])"
      ],
      "execution_count": 13,
      "outputs": [
        {
          "output_type": "stream",
          "text": [
            "A\n",
            "l\n",
            "b\n",
            "e\n",
            "r\n",
            "t\n",
            "o\n"
          ],
          "name": "stdout"
        }
      ]
    },
    {
      "cell_type": "code",
      "metadata": {
        "id": "MiU7sTtv0-Dr",
        "outputId": "528864b7-e2b5-4954-a6c1-0571cdd3f63a",
        "colab": {
          "base_uri": "https://localhost:8080/",
          "height": 136
        }
      },
      "source": [
        "for name in nombre:\n",
        "  print (name)"
      ],
      "execution_count": 15,
      "outputs": [
        {
          "output_type": "stream",
          "text": [
            "A\n",
            "l\n",
            "b\n",
            "e\n",
            "r\n",
            "t\n",
            "o\n"
          ],
          "name": "stdout"
        }
      ]
    },
    {
      "cell_type": "markdown",
      "metadata": {
        "id": "03fgPMcL1lIW"
      },
      "source": [
        "#Que es Markdown\n",
        "Markdown es un lenguaje de marcadopara documentar código. El objetivo es simplificar la estructura de lenguaje HTML\n",
        "----\n",
        "****\n",
        "**axel**\n",
        "más información en: [GithubCheatsheet markdown](https://github.com/adam-p/markdown-here/wiki/Markdown-Cheatsheet)"
      ]
    }
  ]
}