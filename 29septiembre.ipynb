{
  "nbformat": 4,
  "nbformat_minor": 0,
  "metadata": {
    "colab": {
      "name": "Untitled2.ipynb",
      "provenance": [],
      "collapsed_sections": [],
      "authorship_tag": "ABX9TyOEgymcCXN/VkLZakOHjZMM",
      "include_colab_link": true
    },
    "kernelspec": {
      "name": "python3",
      "display_name": "Python 3"
    }
  },
  "cells": [
    {
      "cell_type": "markdown",
      "metadata": {
        "id": "view-in-github",
        "colab_type": "text"
      },
      "source": [
        "<a href=\"https://colab.research.google.com/github/axelnerilucero/edd_1310_2021/blob/master/29septiembre.ipynb\" target=\"_parent\"><img src=\"https://colab.research.google.com/assets/colab-badge.svg\" alt=\"Open In Colab\"/></a>"
      ]
    },
    {
      "cell_type": "code",
      "metadata": {
        "id": "OSpFjhZ3s45H"
      },
      "source": [
        "edad = 10"
      ],
      "execution_count": 2,
      "outputs": []
    },
    {
      "cell_type": "code",
      "metadata": {
        "id": "RWowOvC7vNj1",
        "outputId": "61126997-7e60-48fe-8447-60996f966bb0",
        "colab": {
          "base_uri": "https://localhost:8080/",
          "height": 51
        }
      },
      "source": [
        "print (edad)\n",
        "colores = ['rojo','azul','verde','morado','violeta']\n",
        "print (colores)"
      ],
      "execution_count": 7,
      "outputs": [
        {
          "output_type": "stream",
          "text": [
            "10\n",
            "['rojo', 'azul', 'verde', 'morado', 'violeta']\n"
          ],
          "name": "stdout"
        }
      ]
    },
    {
      "cell_type": "code",
      "metadata": {
        "id": "Fz_JN-ijv0q5"
      },
      "source": [
        ""
      ],
      "execution_count": null,
      "outputs": []
    },
    {
      "cell_type": "code",
      "metadata": {
        "id": "fFlDb21Vwgfa",
        "outputId": "210604b0-66e0-4e8a-9345-94b1f3aec005",
        "colab": {
          "base_uri": "https://localhost:8080/",
          "height": 34
        }
      },
      "source": [
        "\n",
        "print (colores[3])"
      ],
      "execution_count": 8,
      "outputs": [
        {
          "output_type": "stream",
          "text": [
            "morado\n"
          ],
          "name": "stdout"
        }
      ]
    },
    {
      "cell_type": "code",
      "metadata": {
        "id": "1kRehTa2wucc",
        "outputId": "073aefb6-8b6d-4ee3-f493-038f22ee2ab5",
        "colab": {
          "base_uri": "https://localhost:8080/",
          "height": 68
        }
      },
      "source": [
        "#solo mostrar la ra de morado\n",
        "print (colores[3][2:4])\n",
        "nombre = \"Alberto\"\n",
        "print (nombre[0])\n",
        "print (nombre[0:3:1])\n"
      ],
      "execution_count": 10,
      "outputs": [
        {
          "output_type": "stream",
          "text": [
            "ra\n",
            "A\n",
            "Alb\n"
          ],
          "name": "stdout"
        }
      ]
    },
    {
      "cell_type": "markdown",
      "metadata": {
        "id": "9VtbrE_YyLHN"
      },
      "source": [
        "# for en python 3\n",
        "2 variantes \n",
        "1. j in range(ini, tope, incremento)\n",
        "2. (in <iterador)"
      ]
    },
    {
      "cell_type": "code",
      "metadata": {
        "id": "zgVBJiUExbQi",
        "outputId": "939ef64c-a492-4c9d-992c-92e318fda818",
        "colab": {
          "base_uri": "https://localhost:8080/",
          "height": 102
        }
      },
      "source": [
        "for j in range (0,5,1):\n",
        "  print (colores[j])"
      ],
      "execution_count": 11,
      "outputs": [
        {
          "output_type": "stream",
          "text": [
            "rojo\n",
            "azul\n",
            "verde\n",
            "morado\n",
            "violeta\n"
          ],
          "name": "stdout"
        }
      ]
    },
    {
      "cell_type": "code",
      "metadata": {
        "id": "x-RfE9G9z5I2",
        "outputId": "3a32a1cb-f104-4225-b76c-9441dac11b75",
        "colab": {
          "base_uri": "https://localhost:8080/",
          "height": 102
        }
      },
      "source": [
        "for color in colores:\n",
        "  print (color)"
      ],
      "execution_count": 12,
      "outputs": [
        {
          "output_type": "stream",
          "text": [
            "rojo\n",
            "azul\n",
            "verde\n",
            "morado\n",
            "violeta\n"
          ],
          "name": "stdout"
        }
      ]
    },
    {
      "cell_type": "code",
      "metadata": {
        "id": "zgETmu-i0hus",
        "outputId": "58a87ed2-f5f8-40b1-cd76-d57a8774e945",
        "colab": {
          "base_uri": "https://localhost:8080/",
          "height": 136
        }
      },
      "source": [
        "for j in range (0,7,1):\n",
        "  print (nombre[j])"
      ],
      "execution_count": 13,
      "outputs": [
        {
          "output_type": "stream",
          "text": [
            "A\n",
            "l\n",
            "b\n",
            "e\n",
            "r\n",
            "t\n",
            "o\n"
          ],
          "name": "stdout"
        }
      ]
    },
    {
      "cell_type": "code",
      "metadata": {
        "id": "MiU7sTtv0-Dr",
        "outputId": "528864b7-e2b5-4954-a6c1-0571cdd3f63a",
        "colab": {
          "base_uri": "https://localhost:8080/",
          "height": 136
        }
      },
      "source": [
        "for name in nombre:\n",
        "  print (name)"
      ],
      "execution_count": 15,
      "outputs": [
        {
          "output_type": "stream",
          "text": [
            "A\n",
            "l\n",
            "b\n",
            "e\n",
            "r\n",
            "t\n",
            "o\n"
          ],
          "name": "stdout"
        }
      ]
    },
    {
      "cell_type": "markdown",
      "metadata": {
        "id": "03fgPMcL1lIW"
      },
      "source": [
        "#Que es Markdown\n",
        "Markdown es un lenguaje de marcadopara documentar código. El objetivo es simplificar la estructura de lenguaje HTML\n",
        "----\n",
        "****\n",
        "**axel**\n",
        "más información en: [GithubCheatsheet markdown](https://github.com/adam-p/markdown-here/wiki/Markdown-Cheatsheet)\n",
        "\n",
        "![Post Malone](data:image/jpeg;base64,/9j/4AAQSkZJRgABAQAAAQABAAD/2wCEAAkGBxMTEhUTExIWFhUXGBcYFxgXGBgdGBYaGBgWFxgYHhgYHSggGB0lHRcVITEhJSkrLi4uFx8zODMtNygtLisBCgoKDg0OGhAQGi0lHR8tLS0tLS0tLS0tLS0tLS0tLS0tLS0tLS0tLS0tLS0tLS0tLS0tLS0tKy0tLS0rKy0tLf/AABEIAJ8BPgMBIgACEQEDEQH/xAAcAAABBQEBAQAAAAAAAAAAAAAFAQIDBAYHAAj/xAA+EAABAwIEAwYDBgUDBAMAAAABAgMRACEEEjFBBVFhBhMicYGRMqHwBxQjscHRQlJicuGCkvEkM0NTCBWz/8QAGAEAAwEBAAAAAAAAAAAAAAAAAAECAwT/xAAgEQEBAAICAwEBAQEAAAAAAAAAAQIRITEDEkFhEzIi/9oADAMBAAIRAxEAPwDmeEKibAmOQraNY1pDQUWwmBfwzfzBFZbC8XLLRShaQVfyhWYeZJj2FT8Fx76F50NlZP8AMsCf91auOzaTHul5ULISD8OkRtp+9AHsMvxFKVEJ1IBgedaHiLGKRneW2hnnPiInSyZv1q1wnhTLjDhK1heQlQJUm+oJzCCKZS+rENrIINbzhHB3XAlxCgpDhHjEBQO6TOnvWBm9dG7I8WLTS8MtBQpag6yYOVVhMTrS3YvObjoIb7hsEgKUEwACApXkVEAe9YDtHxzEYcfhNYdoOk5oX3q3P61EiOkgmuh4vDJeYla3EpAlQbnMbdLkdK5F2naWUoy51td4tLZUZPl8Iy72qMSvbOKMkqWZOvn+1eRrXizF/ccqeKpbzqqt4JFVIvV7B3InSwoDT4vg/wB3U2ohLoWgLTCogHyMn5VOy+e9slQgCIUPivI2tER61E3glFcBRlKRlBnTpJsKfg28hlQkj2B5W1rK3YF1urIAveCZV+4vRzhzRIBUTOlBmnSsjxZU8q02EQkAXmbDnJ9NKxzrTGIXGBli19jvTEJI5iizOE52phw1+lTtelVlgkjf1omvg5CM2aFATUzOCg6CKvF5ITmFyPrenNHpl+I8LxLkKSUrTFhcE+lBcXwh1lMLUgFVwkzm+XhHrWn+/rQ4VXIgwCd+sRNBcfxlx5wZkJCQQRA02uqb1aKga4T3bQczJJVaBcW5QTNDcbg0iVXPoKOcUxilwmfM3gx0EfOhfEpiBpt+9IgFBKVpSpUJnW9h05Hyo3xzhKfuZdRnSym4J+NU7/1X3MVk8a4ZsSSCfIVQcxjgCkZ1BJ/hzHL7TWsiK89kUqEyExaSCR55apvWOs7bio3TGgqGCQSAba9KvREccEan9K9h0Kc8Kbnbr0pjzKk3Mjfr59KjQ8QQdweX1NMLiWSn4hHMVC7iCDawqda0qvIAOoA0O1hpVfFIFiD/AJpfTiNKio04C99OlRJV50qFXvpNBvODlTCKJqw6F2QIkwJJMeulDnEwSOVByoopyE9aQ14GgCSU2qBx4Cq/fne9Nyk6CaC0uYDivdn4UxuMqTPqRIoq32oAlQabSrZQzSPJKpRPWKzKmzTUgmwBPleqTcJWrPa4BENN/iEQXHCD7JiKG4rEPFPidWoLEkQMvWDePSglSNPKT8JIp7L+c+FxLBQopOo/UTXQcFhH3sC0l1pLqAjOyptRTiG9QCARlc00zD3rnVbLs524OHZQypKilAOUoICtSRMkSkfy0qqzhsODdrn04ItqwmJW+hMZg3KVXgKJEkdRGxrma8ZC84aSBJzIUc6cxkElKrpm9uldWPbnDOYYAY0ByL5myhaVSCmAQUm9iQYiayfDMzz6MOh3vUuqJfhIyBOUKJCUgZZMASYmLTUzhN7ZJSEkiFCCbkJFvJMyPWKc/h8pIvAMAxE+kmPKtZ2t7Mpwr0YdYczpVKCkFSBaRkCbagCwPntkcVh1JUUqSUlMggiCCNZG3lVb2EI1q/hDdPmKotirbIMwNqA1XDnU5XFKVYiJEmOnhTI9KRlsgpOxAgkW+VD8Kr8IJIIvP1A0o1wzDWOZUaWib9ayvCoN8MZJHPoBboa0eDbIgVT4IyEIN6Ls2JNYZXda4xdaTAqjx7jCMKwp1e3wjmdqIseLTSsT9sKXBhE5UkozgKIExuCeQsdqJN1XTCcW+0DFvpyrKUpt8AIM85ml4N26fbV+KpTgOUGSZATyisfS10+mOtaZ+1fQ/D3U4ptDzRJSsXtodDI2qs/wnKspQSrckAxzk7R1Ncm7JdqXsIshLykIWlSTCQrKY8KwkkeIEaz5zXUOG9umgpDbz6XIHjW2EwrUCSJJIsSBbqaz/lfgyyndX0cN8JUSDa4lNr2GszQDiTClEpFq3DzwUgLS2CgpBBygynUXO1/nWI7WMqbUvEoUG21ZZGXMgkAJy5LeMxMgjS9TMeRbGM4u1kMXJ6VUQpLmovV/huIQ+tSVnIonwxfMOknXpTsTgO7SklJBkwToR+9jWvTPvoGxWEgbRbevT3aYsZmIvHWdDRLiTpdSkhKUgzAGhA1JJPlVZnhSnEqyDxIF4Mg9bUXOSbyVjhlndYzdCnlZpOYSNJvNUBrerRYMlJkK08zVZ1sgwRerJIt5SolVk2E8uVKHx59DpVWafyoBSRT0MnWLVEanbX9c6DGuFthKSZ1tJ2/Y9YofxdvxyAYPt7wKs4TBqWklKgIOhIufe9LjcUVt92pMFJmBzFjM0igIabUrZgmnZZ1oUY02DJNvITXg31NPcYKDcfX61bwrmbVIHmaAprMm2n51oOA8FL8uB5JcTBCACXPCRHhtmHQE1myasCbRY6iNus1SK3/DeADGB3vI1JJzAOIUJABkTkOviAN6GYrsmwUOBKiXUKKbqbSI/hOUJlQi5OtrVnP/AL7EpWhQeWVNzlUo54m2i5n10qkzjHEr7xClBc5s6Sc0zMyOtCZjVRSYJB2pRT3XVKUVKJUpRJUTckm5JO5mpWsMSAskBEwTIJTfUpBzfKhaCi3AOOPYYlTLpTmEWuDeRbT1gxJ513Ls32TwLDGbDtodVlCi46kLcVaYIVGT+0AVje0WN4ZxDIB+A6VJzLDJzLJMFIKTbb4gdrDWpl38PLUZpfbF9yU4n8YLUjOJ7sqQmZblsCAZ5aiao8RXh38ROHQttGQ+FakqUVAKUSVE6RAkmbTUWN4QptSpWn8NQEEgKIVJQpIPxAiDbSRMVA4QpWeI0nKIuIuALD035VTPgxljQ6j8ummtSNiZvH186mSSUkknnfebb1CgfD50AadshtQV4gRaDyOhEj9aN8KaSUkwFTtcQRaSfY6b1nG8WqUptCJjQGToZ3vtWj4MkzJF9YjXeTNZ5RUaXghsQSBfXn73o+0CIEEgmJ5a/L96GcMaF4G/+K0KUwmufJtinw7VrU9bcgpIBBsQbg9I3qq1mk2t+fpWV7bcfeblpsFCIAW8ASSSJKUAERaxVOptoaeGNyuoeWUxm65d294Y0xjHE4dSFNHxJCCCGyfibMaQfkocqAJNFcctCyogC5J8Kct/7ST+frQxeGO1/rlXX62Rjj5JTAZJqbDvFNwfMc68w3HnUD1lGNKBeeGo4Zx/FswGnVgbAKJT5ZTajS+2L3dqQ+2haVXkp+BYBCVRobmYPM+VYPC41SDIUR5USHFO8cBcXa8+cGD7xV7l7jH+eWPMrY8FxuDxQyO4ZDbwUlJkJyKBPxJVaY1iPzojxPhgJCEAmbJmfoVz5SQLhQMHY+s+VajhXbsYdH4qO+XEDLIABGi848Rm9pFZ5ePXMXhncuLFbE4IIKgpMwSOkjfaag4TxVTKiYmdf0qJ/jicQpShKP6THoQRrQxb5BtcD5VGXjmePrlOGuHly8eUyxvMTcXe7xZWExNUF4c7AkwSRGgG9a/gfBXXUKV3eYEeEXgzIzBMXIIE9Nr0qOHFp5Km1DMIO9wRcEEDYzEaRTmsZqJyyuVuV7rC9z9bcp6UwpgxWy4y4yUFKGwiVLKgnY9ATfQG8wCaAJwLQUgvLWEKTJKAkq1iLm3WfY05dlsLJqxgVAKkyYv67UZ4PhMJ4y4sqCYIMEECYzQFgETAI1uCOgLcxpJj9NaYFcIokmBJudY6n9bUzGMqsSIB+Gxg9AYvVJtYsNOZ/WKsrxNj4idIBkj3JkEdKBA8m9W8K4Umxmdh125nyqofiNWsIuNxcjX60pKqdT4ghSb6yZttpzqp3sGR+lHncEnuiTBVH9wHla1Z5xIB8Ij660A1KZ2pXrXMg7VOGFJSVZTESegnWqjjmZUi3zqkwiATNT4UlJgE3i3PlUSLEEbUV4dgytRUJMAHbeflY0KoTih41Wi5q7w9EoOlpkb3Fqr41KgtQVqCbTpvFOwAHeJKvhBBV0Ei/wCVNPwSwhyymBI1NxM2B15U51MjMRAEgD9OtWOINQ8CbJIhM2mCTJBuNbTUWMOaw2+LrpEU4zqg6RoEgfr71IQLRype7BPWr33GRNBKa3fDfX00qbC4QlQ5CnqwhCgI3o5hMNJJpVUgdw/DHvDeBEm2okcvq1avCFM5jJMWn2NUMJgxm0m3z/ajPDcNlOn7Gss1yNDwZIm1aVtuRQPg7MVomRasPrfFn+2vF/umEU4D41FKEGNCqb+iQquR8QxTilEJdzqVYqJ3I2rrXb7syvHYYNNrCFoWHE5hZRShaQm2k5tdq4EUuJdW3B7xJUlSdwUkhXsQb9K6fDZI5/Nhbl+Jsfgi1GZxBWpSgUgypISEwSBYSSYv/CahYeEmeUR9cqrOu76ne+/67VXfCvCoggKnKdjBgx5HWr3yfruLjqojrVTEC+tNSonX8h9Cnm4vSpyaQ5tqmw+FWswkT8hOwk2EmBfcinPISAI31p2FcXCkoN1DKeo1j3A9qDtOSlSCULkFJIKT/CQSCPeaIMsIURmk2mNI/erfGuMIc7hLmH/HQkh9cZVKSIDYIFlKCR8ZgkKSKqt4hbeZSFFSVCOZjl8qvFj5N26I0wkZyk9CP18tKJdmsOl1zulGM2ir7XItO1O7E8GLwdeUCEAZEnYkmVecQB61o2uDBEFHxgzcaEfp+9Z5ZTa5jZ2uu8RWQEZx4UlASlP/AG/FKgM1yk5UAeJUDfaqPEXSogrmbHNpIgAQBpoNKLMYhtSgS4GyUruqQEqiyTl/q+tKqYzDNKSju1KSAMqlLJibqgA6TIiYnNO1ZqZnipQloqCgVD52386BoWFJAUQlJlQMSZImJ1jppejPaXhndmM2bTyuJr32f8JGJLzJyiUA5iAVJyrvlnQm16qWK9P+dsyJvBsdR8460iU1qu0/ZsYZ0ALSoQSkQNBoFA2kwfPlQfJKQVGRJSm6ZATGo5AHeOlV3GfVDgmrGHUm4XMbRGvWrWNwRSAQlSQRmAINxzBOqeVVcMgKUAR841tv6UGqugZjGm1StsGM8iPMSPMbUwoub1OHiEBOwM21mgxPBYkKSQo+KDly2m15A1FCXRmMgfOqzz6kqkEjkRtsb1KhU0jEuPcNUwhJDilJcmDPhUNdrH50vBuGyEBXhDhHinxQQQMoAmDPqJ5TQh/EKUACTYmxJgHeAdNKJtKbWklKy3GVJBM5reEpQT4Qm+83sZMUxpX4hgyhRSAZESbRcwk6nLPInetK64jDoZDolQK5yxpAIRNoAJ1vpbWswp5NwZUm8HQ3iCU5iBv771EXAAB0ienT5b7daeipcY4VOrJESZjodPlFT4JwJCxAOYAaTvNuV4qmtUqJJmYF9bCB5WilQaZWCLr5Uo57keGbzA877fnUuDMqGpHSPnPrVNQUgqSZSrRQIhQvcX9OWtHuzOKbQSSklcWtbUWtv1NqE6KcED4tvlVxoAkBOh361cYdC1EGcjmYrSQDkUFZVGf4ZlJtzosjBtJ8IV1gn971NpaDcJgM7gk6Ak9aKnBwkxuAR5zf8xQXAcSKMd3AT4XECFSbfGZg+UelbLEseFI6ioyrSY8BeDwRkkQYi1FsBhf0qNDOU9SaO8Ow/wCdRlVyLOBZj3ou3pULbdTJqGitxl1aMO8toS4lpxSBzUEEpHvFfK2aSolRJMkkm6p1JO8/rX1smvnv7Wuzn3TGKcQjKw940EfCFf8AkR0M+KOSraVr478TnGMUnf6tXRcD2bbxXAELQn/qGnncsBRKypyCiBMSkovYSlMmK5mp3r867V/8f2B3WKcm5W2iOQSlSgfUrP8Atq8uixcaZF+lKvWBRXtqR9/xUN92A84MgOkKN56/F60PwGJCFTE7HnVROXC/w/gLzoKiMiRclWsc45aXqrgcQlKwSCANY1N9RO9WsRxZa2g2QYSRlOYggDYgWULm21ClK8QJFpvTZyW9j/3vO84pwkKywnMACEgW8yBmPU5dIpey/CXcXiQ0zKUgS6uPChHM9ToOvkaGcRcbVlyAXuTy5AxuIv1rp32V49LBVhSRD3iSq0qcA0nUgpuAdCkxrRlvXBT13N/RTg/CHcMl1DjiXGyoKbN8wmygQdNE7neo1qAUYPnRji+ZOasVj8apKvzrDHeXNaWTHiCC8G0VjPOVVj0P8J8jp5gVQxuEQ2pWRZUnL8J26gxcCocLxAxlVedZ+rRTsXjABMEqI+Kfa0Vp6p2F49anU5ZB5T0vrQ/s1jVsOOOIKk/wkp5Kg/mKuRF6GrVkeVFgtAPmUk/vT9RM9SxZ4xxBxxZWtwqMQCYJAF4HKqL+LKozgKgQLqmNt9qcXBCgd6pqq9I3sYc46Pu/dBvxwUFZgjLoPDsqJE9ZoERUgVFMNTpfxGk3PpUl6jRqfSpAaAr4pu3lUrYsKV0yD5Uz1paPatNSJJAqNFeWo0zPTfzpSuNOtRJXTgfoUySJExNv2ryhGlMzWinJWJvyoB7agIqdvFZbgm31qKrNqO1qctrwydSYpbEx2PMccISJTKEiMhMzIhQk7EZvcVoeC44OELV/KAkRcQbyd/2NYELolwpwkQDBB8OnqDPOBQmySOhYPhIVjcO8dAhwf6klMfJavatzisMCUCKw/BMWZwoMSFkRbQoXytsK3GIxPiEdawz7aY3hX7nxeU29oopgUQKpJdBoD237TLwYw3dpzlbsqSDBUhAkpB2JUUDTmN6ntcb5vSh3aRh5bBSw4ULzIHhAJIKkpIk/DYzIvarzKrDbpyp7lwP7k/Ig/pRFJ4vXloBEEAjkRI+dIDTqZgPFuFHEuhA/CabjvFpSA46TBS0lyJQgC6lJucwAIg1jfs64S0MVxXCkKSEPJKCha0LSkqeCYWghVhl3rqE1gezyQ3x/iCP/AGssuj0CAfmo1UvBVx7thgiOI4lBWpWV1eZahJiRK1BAAOomAL1Fw/CJACinwn+a82MWAses/nRDt47GPx19cSAfIBR9pSLdBQ3AYq4zTASQAOcWt51vhr65fL7a1DcfgMolFhrfXawO/lrbzoaoqEzHrH5VdddzEpAgdZ9Yg+VU3W4uYqspB47ZNVChWU+Yrof2b9llY1HfqdUhtl0DKAcysoSvwrB8NykaSNr0K7A9jHce8la0lOFSfxF6Z4/8aDuSbEjQTeYFd2wfDmsM0llhsNtp0SJ9SSbknmb1jnnriNvSZdhXHMOFJJB01+t657xlJvfSug8WUrLbbkKwePwqlG4Ou1R46WcZ5tw/5qzxIktlY1A+jUz2BI1EbVQXiIRlJ1Brftl0jLlqH41XiQfMe4/xUrz0fDe8cvWqeKdVk1BhQVoJ1jXWIn3o3oY42rCWFkFQSSkamDA8zoKqu2I9R+tTqxy4gqzD+qCBPKdPSqxLedBWVd3Kc+UDMBPiyzYkCYmmWMNJpoNFeNjAoUkYV911JEkuIyEGNLgb+dDApM70laRoNz5/X6UWVw4DCJfJIUVlIBFljSxnaDtvQpL2UnKBeruNxSglpPhV+GFXHw5iox0OlKrx1zuKivKKiQLfL69qnGJHKrOEcbDZzKB8Z8G+8KPvA8zRboY47ugWbU4RTVK2GnzplBpVRH1amA15StLAWAtN+tybnpbpXqAeVGvJIp1jSSBTSmdggZRpUytB0SSfW371WQFHQW3j9aneSTIHMDpYc6nLlphdS2qhXUmHxBSZFNdZy2qPIeVUza3hXadCVIKgoZVJI3EBQn5TW3a7aYZSVLLkBIvIM67AXPtXHmEgnxT6U99kpg6g6Hl0NTcZR07RwftGy/4m12Bi4INuhq05w9vFY5ta/EnDthSRsVuLJBPOA0Lda5IjhOIbwqcUhZyLUAA2SSDBuqD4SIjQ35VTRin5hTjgzEAkqUR6kG9ZyY5f5rSzLC8vpp3GIbQVrUEpAJJJgADU0Hw/bfBLVlD0QdSlQBsdDHlXBOJYZ1MFawtOygqfSDeRPLevYJR6+lP+ab5H1A06CAQZBEg8wdKlzVynsL2wLaAy8SUj4FGZSDt1HLlXRMPxVtQkGs7NNMcpRKa5/jV912kYOz+DUgdSkuqj2bTW2Rigawfbp4N8W4Q9sXHGif7yhA//AENPGnXKO3C1DiOMkAEuqkBWYC4OsCfbeKDIcI6R6RVzjOLLuIfd2cedUPIrUR8ooc4Z9K3nTG81IrE3zDn71t/s44FhsZiwMQkrR3a3EJkgKUhTaSFRqBm0Biufit99lva9GDU60+qMO4M0yr8NQBBKUAEkqsDEfCDtStuh6zcrubbSUJCEJCUJACUpACUgaAAWAqNxUgxtWFx32tYJKZbS64dAMoTPqoyB1iouB/aoy++2ycO4guLCQoqSQCbCYvrArn9a23GrxbSiDas7jMOUyVJI5Vq1vBM6EUNf4w01JWnPtBiPY60RNYziAChWI4iqCfP9a6S92lweRaVYPvln/tobSQqdIJReN9965bjg7nUpxlTYKjlBSsAX0BXOnUk1vhqM8sbYa65eoRBsowCYJ3A3PtSoSpRsCf7RP+B6xVcYhvkv0yj/AIq0SHqXuLjYnWNpqxgMIp1YT3a1gmISFG+xtVPCOKHw5RB/ii/TT8q1eB44WEpbRilZb5oSIQTsnMTI528qDvboHZThIPDe4ewSEuJJClKbRKxJyqBi9oFzWHxHYzPiC20tITzT4oMxGUGaZg+Iu4qUd4454iAVqGVCB/KgBKFKMakGPOtR2a43hsC5hgmFIdQ6HZ+Jt1PwhW0ETB61PIC1/Y9i8mcPsgf15kiOcifaKBYzsbiXHAnD9ziAEoTLLiSBCQJVmyxJnzrof2idultMoVhXWylwG0AwCL+RFcl4N2mdwxlu1yddT1om6aPjHAMVhTGIYW31MEf7kkihYURWm4p28xmIs8tCkxGXu0xHtPzrMPqEykQDty6U9U0mGwmfRxtJ5LVl5bkZfntV/H9mMYykKcw6shEhaYUkjmFIJmj/AGB7GDHqUFuNpSLWWO+BIMENgXFjcxoa1znFuH8JaOFZW5izJzILmZIVeUqIhtqOSQpXMb1Ny54VrhxuvE0Rx7iFrUQnKCSQAZygmQATcxpflQ9aYNUmXZKeEUwVMWli5GXzt8taDKy7lNSIxFvn+tQqCBuVeVh5XE17vwBZCfM3PzsPamWhbgq21PJLrfeJmVpzBJy/xQSReJp/aLGYVTxVhWyhuNDAVPKE+GLSDAN7i1AVLJ1NJlo1ztXzSd58HQH1I/amd8rQfKkKRtUrOJKdKCsIta4yqKrbGbelWMIfCoA3jwmq3iJmCaS4PI9aRLT2IVlCSd9OW1GcLwnEBGfNlaInOLiDEwAcxgxNrRWeSozNEsPx3EJbLSXFBBsUiIjkBFt9KV2GkZe7kpUVKdJ+EgZAeqp2156GtlwvixyhRJDd7BtRNjrmkAWEabzNclYx8qHeFSkiJAjNA2E1O5xcgkMKWEGPiCc8joCR7VGWO1Th2kdpWAkk5xGgJOad5SYI9RXP/tF4+nENsON5klt4lKpvoSCPVCfas61xQDLOZwxCsyiBp1/P5VBxPFhbVw2k5gQlCVeV1KnN5aC/Olj47KfsGrWNrCq2apF1DWqZDia8KSrPDnEpcSVNd6J/7ckZ5sBIk6xp/mg1et12E7NXbxjjqEgSppJmSQSkKNotcgCdqyfGFLW5nW0GgqMqAkpSlMWAGsQbE7VquHcTwyWkp+8EhCQmyCCSB8ULHM+dqjK3XByNpj+JPJ+ApUOZtf1rH8R7UKWFIPdA3HiRofMaaVac4klU92krMCIJuf8ATv8A8Vn+J9nXSpSlIyq1ITBMnbKJIqMf06VriT7R71kDvCIJbclOXW6ZvNEE9t3lNlDqGXSqYbS2okkyb+KLdAaz6+BkAKkEf1eGT0mD7iqyVuoBQ2VIBNwlfxf6kxIq/XGlzBDPi3EhC1IZb0hZQyn/AGWUrzgzUiOz2HQpKXeJYe58RazOBIA1zQJPSKCfdlZoUlU/MipfuAufEkRbMNeQsN+cVZaXsHwltwuZcW0hKFpSCuQVBU+MWHhEHrcWq6rgmCT8XEsxvZthUf7lqFuuU1nAwM0ZgOpmJ/MUwzQWh1XEWsOU/ditSSPGHMt1RqlSQCI8vehWLxynJzEm8+tVYpUtE6CmNHrfJEE2qGn9yeVeU2RrQNG5q9SmvCg0rOIWn4VKSSCDlJBIOotqDyqdSVZQSkpGlxA9Krl47W8rUilE6mfOkXaw5l3WD/aCfmY/WmKeTHwX6kn8oqCKSmNJC6oiNtYAA/LWmE0k14GkCxSV6vUB6lvXppZoC8xh3A2V91I0zKQogeR+G+mhqJeEUBmJTG0KST7Ak+9FeCdpnWbLUt1H/rUs5I5QZAHpVJ5aXXCoNpaBJMJKiL8pPypQWocK6USdt/Ck+VzpvWkwfaVam+7cYZfRmJlSUhaQYtKYGwg661Pw7sxhQAp54mR8OYC+9xoK0OH7HNEZ8OWEpF/xAXJ8yo6eVTbDZrEDDWC8K2kEn4HFFc7A5VEka/Leat4TguDUoJDbqieZWiOvi2sRcnetlwHg7yo/69hKAdGWkTbmoi1bfh+CZbFjnV/MqCT8oHpWdy/VyfjkTuEwzOVDuFQQpSvAUuLcQcsyMoIUMpReADfpUfc8PUMpbQlwQYhaCTBEAraAUBexmYBImu2EIJ+FM76D8qB9rBg22ivEqytm2VHxrUdkgfGTex9xSlOuYMcA4am63mgr+MKxAzIVNxlQYJm0GmdoezGGRh3lsJK1ITmzBZOSIUZGbLETtPtNXeI9scE0xkYbIcghCQhCe58RHiIkSB4vDO1ZntH2sK3Xktr71lxGVHeJILYIhQBsSbm51nS1VrLZcMqsGxIIB0trtbnTK0GF4rh/ufcOMZnElRS4CAZUSQc0E20g2IoCrpWsqSVLhXihaVjVJB2/UH3ioqUGmS3xLiLr6sziyo3idp+taXCcNccTnCFZZjMEkgncWBJ1GgOtU5pyXCIubaX0paDU8GU6kDKFxutzwyqJGWbkAjWCfQxRhxjCvyVupSq2piTkAiTFwQTGhufPCDFrt4za4voTuOvWnsYJ10+BJWehE+t6m47PbTK7kKgJStKCBdSglSQdQrQHQEZjG1UsRx5ITlbbBN4JGk9CVCR/ML3NzQf7o6mRcRqkHn/bapV4B0JBWqAQfiUbQYuNRR6w9nOYl1yxVcDNlgJiOQtJ6JH61SUpQO58/EP1FXcMxkUM+cAifhieRAVqOsDpTcXjQskkEqnXT111pkq92pdwk9eVNUyoGCI87Vdxb5ACUqJEA5o1JHiMwDEkxIBqmXidbjl9b0yMUiNaVDxGlNcXNMimEhdPOmFVIRXhQHpr00leoAx2mwTLTxDCiWzpJkjpO9CUmpnLm5pmUdaRJUs5unLrUC0xUwejaY50inJ2pmgr1PIFeCOtBGUtIRXqA9UiEVGKttPJCbjxfL/mgVdwvDypOYiB+dNwzGdWWcqecGqjmJJtJ8ptUiMTPh0oRqumcJ7OYV7DqZw7raX1AS4pOdXkAT4ZvoayXaPsw9hj3ZxPexbKgLMeYmBQrh/FXWVSyrKq+w5QdbaVNju0mJV8bhncn/FvlUSWVWxXs3ivu9mwsuK5pUB/xW14b2reZQe+RN7Rk09VVyc40JhQcUXJvaw9TRBPa94IKQ20dIUtAUoepoyxlObdLc7drB8LEgidUyBzN4A9a5/217VjFuJIRGQETmkGYvAtttWadxK3CcyiZ20HTwi1QrF6McJOTu72bNer1eqw9S02aWgFr1JXpoBa9NJXqAWpMOkFQ8WU7HkfPaoq9QBh/iDxRkU4lYHPKVjoVfERpuRQ91xR1NQA04OHnS0e0ofUNzyvf86cnEq2tttf3qulcU4o3oI9SxI09AB8tKnCC58IJjU6j1O1UgasM3oBv3ZV4STAkxsOdRGKtgTsPaonBNAVxSmnFum0wSvVIQmLEzvyplAf/9k=)"
      ]
    }
  ]
}