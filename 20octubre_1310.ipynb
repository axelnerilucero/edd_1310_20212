{
  "nbformat": 4,
  "nbformat_minor": 0,
  "metadata": {
    "colab": {
      "name": "20octubre_1310.ipynb",
      "provenance": [],
      "collapsed_sections": [],
      "authorship_tag": "ABX9TyPBLdLNdlabAANMhg9mSELV",
      "include_colab_link": true
    },
    "kernelspec": {
      "name": "python3",
      "display_name": "Python 3"
    }
  },
  "cells": [
    {
      "cell_type": "markdown",
      "metadata": {
        "id": "view-in-github",
        "colab_type": "text"
      },
      "source": [
        "<a href=\"https://colab.research.google.com/github/axelnerilucero/edd_1310_2021/blob/master/20octubre_1310.ipynb\" target=\"_parent\"><img src=\"https://colab.research.google.com/assets/colab-badge.svg\" alt=\"Open In Colab\"/></a>"
      ]
    },
    {
      "cell_type": "code",
      "metadata": {
        "id": "Zxkg6Jukv0E8",
        "outputId": "f1bcde97-f8a5-4448-b3c9-1732c8d93738",
        "colab": {
          "base_uri": "https://localhost:8080/",
          "height": 289
        }
      },
      "source": [
        "archivo = open('numeros.txt', 'rt')\n",
        "for linea in archivo.readlines():\n",
        "  for trunc in linea.split(','):\n",
        "    print(int(trunc.strip()))"
      ],
      "execution_count": 5,
      "outputs": [
        {
          "output_type": "stream",
          "text": [
            "23\n",
            "23\n",
            "44\n",
            "55\n",
            "5\n",
            "44\n",
            "4\n",
            "5\n",
            "7\n",
            "7\n",
            "6\n",
            "5\n",
            "4\n",
            "2\n",
            "2\n",
            "1\n"
          ],
          "name": "stdout"
        }
      ]
    },
    {
      "cell_type": "markdown",
      "metadata": {
        "id": "q-5WYX6U2mMk"
      },
      "source": [
        " # sintaxis del for en python\n",
        " 1. range\n",
        " 2. in iterator\n",
        " "
      ]
    },
    {
      "cell_type": "code",
      "metadata": {
        "id": "BWjog04J23tK",
        "outputId": "26365f50-7b0a-46d0-f9e1-f91e261d3244",
        "colab": {
          "base_uri": "https://localhost:8080/",
          "height": 170
        }
      },
      "source": [
        "r = range(0,10,2)\n",
        "for x in r:\n",
        "  print (x)\n",
        "\n",
        "colores = ['rojo', 'rosa','azul','fucsia']  \n",
        "for indice in range(0,4,1):  #for (indice = 0;indice <4;indice ++)\n",
        "  #print (colores[indice])\n",
        "  colores[indice] = colores[indice] + \"jajajajshajkhkhkjh\"\n",
        "# for sobre un iterador\n",
        "for col in colores:\n",
        "  print(col.upper())   "
      ],
      "execution_count": 15,
      "outputs": [
        {
          "output_type": "stream",
          "text": [
            "0\n",
            "2\n",
            "4\n",
            "6\n",
            "8\n",
            "ROJOJAJAJAJSHAJKHKHKJH\n",
            "ROSAJAJAJAJSHAJKHKHKJH\n",
            "AZULJAJAJAJSHAJKHKHKJH\n",
            "FUCSIAJAJAJAJSHAJKHKHKJH\n"
          ],
          "name": "stdout"
        }
      ]
    },
    {
      "cell_type": "markdown",
      "metadata": {
        "id": "_XrXN4kZ8Ajz"
      },
      "source": [
        "# generadores\n",
        "[ hola for x in renge(10) ]\n",
        "\n",
        "[[0,0,0],\n",
        "[0,0,0],\n",
        "[0,0,0]]"
      ]
    },
    {
      "cell_type": "code",
      "metadata": {
        "id": "he4-uFUh8XII",
        "outputId": "b92d3dfc-770f-455a-c526-c6cc80b81695",
        "colab": {
          "base_uri": "https://localhost:8080/",
          "height": 34
        }
      },
      "source": [
        "lista = [ 0 for x in range(3)]\n",
        "arr = [lista for x in range(3)]\n",
        "print(arr)"
      ],
      "execution_count": 22,
      "outputs": [
        {
          "output_type": "stream",
          "text": [
            "[[0, 0, 0], [0, 0, 0], [0, 0, 0]]\n"
          ],
          "name": "stdout"
        }
      ]
    },
    {
      "cell_type": "code",
      "metadata": {
        "id": "k4kLaRS6zuTT",
        "outputId": "4e85266f-ed81-40eb-f9fd-769c8fdb99d4",
        "colab": {
          "base_uri": "https://localhost:8080/",
          "height": 34
        }
      },
      "source": [
        "ren = 5\n",
        "col = 1\n",
        "\n",
        "lista = [ [0 for x in range(col)] for x in range(ren)]\n",
        "print(lista)\n",
        " "
      ],
      "execution_count": 27,
      "outputs": [
        {
          "output_type": "stream",
          "text": [
            "[[0], [0], [0], [0], [0]]\n"
          ],
          "name": "stdout"
        }
      ]
    },
    {
      "cell_type": "markdown",
      "metadata": {
        "id": "NLktBMbm_MNn"
      },
      "source": [
        "# POO en python \n",
        "- clase\n",
        "- creacion de objetos \n",
        "- constructor\n",
        "- encapsulamiento\n",
        "- metodos\n",
        "- atributos\n",
        "- herencia"
      ]
    },
    {
      "cell_type": "code",
      "metadata": {
        "id": "0XxTjyQm_eMw",
        "outputId": "072b9000-6c31-49e1-8fce-099064ea1798",
        "colab": {
          "base_uri": "https://localhost:8080/",
          "height": 34
        }
      },
      "source": [
        "class computadora:\n",
        "  def __init__( self, m , p ):\n",
        "    self.__marca = m\n",
        "    self.__procesador = p\n",
        "\n",
        "  def to_string( self ):\n",
        "      return \"Marca: \"+ self.__marca+ \", Procesador: \"+self.__procesador\n",
        "\n",
        "mi_pc=computadora(\"Toshiba\", \"Intel i7\")      \n",
        "mi_pc.__marca=\"HP\"\n",
        "\n",
        "print(mi_pc.to_string())"
      ],
      "execution_count": 3,
      "outputs": [
        {
          "output_type": "stream",
          "text": [
            "Marca: Toshiba, Procesador: Intel i7\n"
          ],
          "name": "stdout"
        }
      ]
    }
  ]
}