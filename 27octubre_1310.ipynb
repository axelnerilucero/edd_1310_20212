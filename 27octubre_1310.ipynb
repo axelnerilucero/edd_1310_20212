{
  "nbformat": 4,
  "nbformat_minor": 0,
  "metadata": {
    "colab": {
      "name": "27octubre_1310.ipynb",
      "provenance": [],
      "collapsed_sections": [],
      "authorship_tag": "ABX9TyO8KzClT01/nHaVsxq+0+9N",
      "include_colab_link": true
    },
    "kernelspec": {
      "name": "python3",
      "display_name": "Python 3"
    }
  },
  "cells": [
    {
      "cell_type": "markdown",
      "metadata": {
        "id": "view-in-github",
        "colab_type": "text"
      },
      "source": [
        "<a href=\"https://colab.research.google.com/github/axelnerilucero/edd_1310_2021/blob/master/27octubre_1310.ipynb\" target=\"_parent\"><img src=\"https://colab.research.google.com/assets/colab-badge.svg\" alt=\"Open In Colab\"/></a>"
      ]
    },
    {
      "cell_type": "code",
      "metadata": {
        "id": "8nstEoJVS2Uw",
        "outputId": "452469c1-8fff-47ca-fade-9ca43ff3dbd0",
        "colab": {
          "base_uri": "https://localhost:8080/",
          "height": 68
        }
      },
      "source": [
        "class Computadora:\n",
        "    def __init__( self , m , p):\n",
        "        self.__marca = m\n",
        "        self.__procesador = p\n",
        "\n",
        "    def to_string( self ):\n",
        "        return \"Marca:\"+self.__marca+\" Procesador:\"+self.__procesador\n",
        "\n",
        "    def set_marca( self , m  ):\n",
        "      self.__marca = m\n",
        "\n",
        "    def get_marca( self ):\n",
        "      return self.__marca\n",
        "\n",
        "    def set_procesador( self, p ):\n",
        "      self.__procesador = p\n",
        "\n",
        "    def get_procesador( self ):\n",
        "      return self.__procesador\n",
        "\n",
        "\n",
        "\n",
        "mi_pc = Computadora(\"Toshiba\",\"Intel i7\")\n",
        "print(mi_pc.to_string())\n",
        "mi_pc.__marca=\"HP \" #intentando cambiar el valor privado\n",
        "mi_pc.set_marca(\"HP co.\")\n",
        "print(mi_pc.to_string())\n",
        "print(mi_pc.get_procesador())\n"
      ],
      "execution_count": 4,
      "outputs": [
        {
          "output_type": "stream",
          "text": [
            "Marca:Toshiba Procesador:Intel i7\n",
            "Marca:HP co. Procesador:Intel i7\n",
            "Intel i7\n"
          ],
          "name": "stdout"
        }
      ]
    },
    {
      "cell_type": "markdown",
      "metadata": {
        "id": "EDE5pibMEJP9"
      },
      "source": [
        "# Encapsulamiento en python \n",
        "## tradicional tipo Java\n",
        "    void setAtributo( val )\n",
        "    tipo getAtributo ( )\n",
        "\n",
        "## estilo python 3\n",
        "UTILIZANDO DECORADORES\n",
        "- @property\n",
        "- @atributo.setter"
      ]
    },
    {
      "cell_type": "code",
      "metadata": {
        "id": "qGtKiVr7EN1I",
        "outputId": "3b39508f-3c0f-458e-817b-a7b49d234a7d",
        "colab": {
          "base_uri": "https://localhost:8080/",
          "height": 102
        }
      },
      "source": [
        "class computadora:\n",
        "    def __init__( self , m , p):\n",
        "        self.marca = m # se manda a llamar el depurador @property\n",
        "        self.procesador = p # idem\n",
        "\n",
        "    @property     # se declara como atrubuto privado y funciona como metodo get\n",
        "    def marca( self ):\n",
        "      return self.__marca\n",
        "\n",
        "    @marca.setter\n",
        "    def marca(self , m ):\n",
        "      print(\"En el setter de marca\")\n",
        "      self.__marca = m  \n",
        "    \n",
        "    @property \n",
        "    def procesador( self ):\n",
        "      return self.__procesador\n",
        "\n",
        "    @procesador.setter\n",
        "    def procesador( self , p):\n",
        "       print(\"en el metodo set de procesador\")      \n",
        "       self.__procesador = p \n",
        "\n",
        "    def to_string( self ):\n",
        "      return \"marca: \"+self.marca +\", procesador: \"+ self.procesador\n",
        "      \n",
        "mi_pc2 = computadora(\"Mac Book pro\", \"Intel i7\")\n",
        "print(mi_pc2.to_string())\n",
        "mi_pc2.marca = \"Dell\"\n",
        "print(mi_pc2.to_string())"
      ],
      "execution_count": 14,
      "outputs": [
        {
          "output_type": "stream",
          "text": [
            "En el setter de marca\n",
            "en el metodo set de procesador\n",
            "marca: Mac Book pro, procesador: Intel i7\n",
            "En el setter de marca\n",
            "marca: Dell, procesador: Intel i7\n"
          ],
          "name": "stdout"
        }
      ]
    },
    {
      "cell_type": "code",
      "metadata": {
        "id": "-zEukp1qQljY",
        "outputId": "046fe0f2-733d-4e71-b4cf-53c8825c109b",
        "colab": {
          "base_uri": "https://localhost:8080/",
          "height": 85
        }
      },
      "source": [
        "# herencia , pasando la clase base a la declaracion \n",
        "class ServidorEmpresarial( computadora ):\n",
        "  def __init__( self ):\n",
        "    print (\"Hola servidor\")\n",
        "\n",
        "server =ServidorEmpresarial()\n",
        "server.marca = \"Sun Micro Systems\"\n",
        "server.procesador = \"Intel i7\"\n",
        "print(server.to_string())\n"
      ],
      "execution_count": 15,
      "outputs": [
        {
          "output_type": "stream",
          "text": [
            "Hola servidor\n",
            "En el setter de marca\n",
            "en el metodo set de procesador\n",
            "marca: Sun Micro Systems, procesador: Intel i7\n"
          ],
          "name": "stdout"
        }
      ]
    }
  ]
}