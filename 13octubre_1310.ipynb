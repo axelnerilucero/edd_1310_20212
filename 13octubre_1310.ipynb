{
  "nbformat": 4,
  "nbformat_minor": 0,
  "metadata": {
    "colab": {
      "name": "13octubre_1310.ipynb",
      "provenance": [],
      "collapsed_sections": [],
      "authorship_tag": "ABX9TyPYFL/q2Vc+5NDJ0ll6XpIw",
      "include_colab_link": true
    },
    "kernelspec": {
      "name": "python3",
      "display_name": "Python 3"
    }
  },
  "cells": [
    {
      "cell_type": "markdown",
      "metadata": {
        "id": "view-in-github",
        "colab_type": "text"
      },
      "source": [
        "<a href=\"https://colab.research.google.com/github/axelnerilucero/edd_1310_2021/blob/master/13octubre_1310.ipynb\" target=\"_parent\"><img src=\"https://colab.research.google.com/assets/colab-badge.svg\" alt=\"Open In Colab\"/></a>"
      ]
    },
    {
      "cell_type": "code",
      "metadata": {
        "id": "N0rYwq2MuuMF",
        "outputId": "19418836-5b49-492f-c000-dd37794e61b6",
        "colab": {
          "base_uri": "https://localhost:8080/",
          "height": 105
        }
      },
      "source": [
        "alumno = { \n",
        "          \"num_cta\" : 303030303 ,\n",
        "          \"carrera\" : \"ICO\",\n",
        "          \"promedio\" : 9.8,\n",
        "          \"materias\" :[\"EDD\",\"CyP\",\"Calidad\",\"Emprendimiento\"],\n",
        "          \"direccion\" : { \n",
        "                            \"calle\":\"rancho seco\",\n",
        "                            \"numero\" : 23 ,\n",
        "                            \"delegacion\" : \"Neza\",\n",
        "                            \"estado\" : {\n",
        "                                        \"id\" : 15 ,\n",
        "                                        \"nombre\" : \"Estado de Máxico\" ,\n",
        "                                        \"nombre_corto\" : \"EdoMex\"\n",
        "                                        } ,\n",
        "                            \"CP\":57170\n",
        "\n",
        "                        } \n",
        "          }\n",
        "print(alumno)\n",
        "alumno['carrera']=\"Ingenieria en computacion\"\n",
        "print(alumno)\n",
        "\n",
        "alumno['nombre_completo']={'primer':\"Juan\",\n",
        "                           'segundo':\"Pedro\",\n",
        "                           'materno': \"Pérez\",\n",
        "                           'paterno': \"Gomez\"\n",
        "                           }\n",
        "alumno['semestre']=3\n",
        "print(alumno)\n",
        "print(f\"{alumno['nombre_completo']['primer']} {alumno['nombre_completo']['segundo']} {alumno['nombre_completo']['materno']} {alumno['nombre_completo']['paterno']}\")\n",
        "                    "
      ],
      "execution_count": 5,
      "outputs": [
        {
          "output_type": "stream",
          "text": [
            "{'num_cta': 303030303, 'carrera': 'ICO', 'promedio': 9.8, 'materias': ['EDD', 'CyP', 'Calidad', 'Emprendimiento'], 'direccion': {'calle': 'rancho seco', 'numero': 23, 'delegacion': 'Neza', 'estado': {'id': 15, 'nombre': 'Estado de Máxico', 'nombre_corto': 'EdoMex'}, 'CP': 57170}}\n",
            "{'num_cta': 303030303, 'carrera': 'Ingenieria en computacion', 'promedio': 9.8, 'materias': ['EDD', 'CyP', 'Calidad', 'Emprendimiento'], 'direccion': {'calle': 'rancho seco', 'numero': 23, 'delegacion': 'Neza', 'estado': {'id': 15, 'nombre': 'Estado de Máxico', 'nombre_corto': 'EdoMex'}, 'CP': 57170}}\n",
            "{'num_cta': 303030303, 'carrera': 'Ingenieria en computacion', 'promedio': 9.8, 'materias': ['EDD', 'CyP', 'Calidad', 'Emprendimiento'], 'direccion': {'calle': 'rancho seco', 'numero': 23, 'delegacion': 'Neza', 'estado': {'id': 15, 'nombre': 'Estado de Máxico', 'nombre_corto': 'EdoMex'}, 'CP': 57170}, 'nombre_completo': {'primer': 'Juan', 'segundo': 'Pedro', 'materno': 'Pérez', 'paterno': 'Gomez'}, 'semestre': 3}\n",
            "Juan Pedro Pérez Gomez\n"
          ],
          "name": "stdout"
        }
      ]
    },
    {
      "cell_type": "code",
      "metadata": {
        "id": "hvhNE3gkx9AX",
        "outputId": "d840a363-82cc-4ecc-8431-c3f98078dc9e",
        "colab": {
          "base_uri": "https://localhost:8080/",
          "height": 428
        }
      },
      "source": [
        "#keys(), values(), items()\n",
        "\n",
        "llaves = alumno.keys()\n",
        "print(llaves)\n",
        "for llave in llaves:\n",
        "  print(llave.upper())\n",
        "\n",
        "valores = alumno.values()\n",
        "for val in valores:\n",
        "  print(val)\n",
        "\n",
        "pares = alumno.items()\n",
        "print(pares)\n",
        "for elem in pares:\n",
        "  print(f\"el campo {elem[0]} tiene el valor {elem[1]}\")\n",
        "\n"
      ],
      "execution_count": 16,
      "outputs": [
        {
          "output_type": "stream",
          "text": [
            "dict_keys(['num_cta', 'carrera', 'promedio', 'materias', 'direccion', 'nombre_completo', 'semestre'])\n",
            "NUM_CTA\n",
            "CARRERA\n",
            "PROMEDIO\n",
            "MATERIAS\n",
            "DIRECCION\n",
            "NOMBRE_COMPLETO\n",
            "SEMESTRE\n",
            "303030303\n",
            "Ingenieria en computacion\n",
            "9.8\n",
            "['EDD', 'CyP', 'Calidad', 'Emprendimiento']\n",
            "{'calle': 'rancho seco', 'numero': 23, 'delegacion': 'Neza', 'estado': {'id': 15, 'nombre': 'Estado de Máxico', 'nombre_corto': 'EdoMex'}, 'CP': 57170}\n",
            "{'primer': 'Juan', 'segundo': 'Pedro', 'materno': 'Pérez', 'paterno': 'Gomez'}\n",
            "3\n",
            "dict_items([('num_cta', 303030303), ('carrera', 'Ingenieria en computacion'), ('promedio', 9.8), ('materias', ['EDD', 'CyP', 'Calidad', 'Emprendimiento']), ('direccion', {'calle': 'rancho seco', 'numero': 23, 'delegacion': 'Neza', 'estado': {'id': 15, 'nombre': 'Estado de Máxico', 'nombre_corto': 'EdoMex'}, 'CP': 57170}), ('nombre_completo', {'primer': 'Juan', 'segundo': 'Pedro', 'materno': 'Pérez', 'paterno': 'Gomez'}), ('semestre', 3)])\n",
            "el campo num_cta tiene el valor 303030303\n",
            "el campo carrera tiene el valor Ingenieria en computacion\n",
            "el campo promedio tiene el valor 9.8\n",
            "el campo materias tiene el valor ['EDD', 'CyP', 'Calidad', 'Emprendimiento']\n",
            "el campo direccion tiene el valor {'calle': 'rancho seco', 'numero': 23, 'delegacion': 'Neza', 'estado': {'id': 15, 'nombre': 'Estado de Máxico', 'nombre_corto': 'EdoMex'}, 'CP': 57170}\n",
            "el campo nombre_completo tiene el valor {'primer': 'Juan', 'segundo': 'Pedro', 'materno': 'Pérez', 'paterno': 'Gomez'}\n",
            "el campo semestre tiene el valor 3\n"
          ],
          "name": "stdout"
        }
      ]
    },
    {
      "cell_type": "code",
      "metadata": {
        "id": "klpTH1MV0-_z",
        "outputId": "2ad34b36-ee40-48a4-e66f-f70e99fd4d33",
        "colab": {
          "base_uri": "https://localhost:8080/",
          "height": 54
        }
      },
      "source": [
        "#Concatenar diccionarios\n",
        "computadora = {\"procesador\":\"Intel i7\",\n",
        "               \"ram\":\"Kingston 128 GB\"\n",
        "               }\n",
        "otros = {\"monitor\":\"LG 49\",\n",
        "         \"HD\":\"Toshiba 1TB\"\n",
        "         }               \n",
        "computadora.update(otros)\n",
        "print (computadora)\n"
      ],
      "execution_count": 19,
      "outputs": [
        {
          "output_type": "stream",
          "text": [
            "{'procesador': 'Intel i7', 'ram': 'Kingston 128 GB', 'monitor': 'LG 49', 'HD': 'Toshiba 1TB'}\n"
          ],
          "name": "stdout"
        }
      ]
    },
    {
      "cell_type": "markdown",
      "metadata": {
        "id": "sfMiZmWH2nw4"
      },
      "source": [
        "# funciones \n",
        "- son unidades de codigo reutilizable\n",
        "- es un mecanismo de organizacion de codigo\n",
        "- una funcion toma de 0 a n parametros\n",
        "- tiene una sola salida (return) de cualquier otro tipo de dato\n",
        "- solo puedes hacer dos cosas\n",
        "\n",
        "  -definirla\n",
        "\n",
        "  -llamarla\n",
        "\n",
        "- se definen con la palabra reservada 'def'"
      ]
    },
    {
      "cell_type": "code",
      "metadata": {
        "id": "W6sjc3Jo3-fi",
        "outputId": "dc6efb2e-4037-43a0-becc-6a089742f880",
        "colab": {
          "base_uri": "https://localhost:8080/",
          "height": 153
        }
      },
      "source": [
        "def sumar (x , y):\n",
        "  resultado = x + y\n",
        "  return resultado\n",
        "def saludar (nombre):\n",
        "  print(f\"Hola {nombre}, ¿Como estas?\")\n",
        "  return None\n",
        "#procesar none\n",
        "def multiplicar(valor,veces):\n",
        "  if valor != None:\n",
        "    c = valor * veces\n",
        "  else:\n",
        "    c = \"operacion no valida\"\n",
        "  return c\n",
        "def operacion (a, b, c):\n",
        "  res = a + (b / c)\n",
        "  return res\n",
        "\n",
        "\n",
        "\n",
        "print(sumar(10,15))\n",
        "print(sumar(2,6))\n",
        "saludar(\"Jesus\")\n",
        "print (multiplicar(5,6))\n",
        "print (multiplicar(None,6))\n",
        "print(operacion(2, 9, 3))\n",
        "print(operacion(2, 3, 9))\n",
        "print(operacion(a=2, c=3, b=9))"
      ],
      "execution_count": 35,
      "outputs": [
        {
          "output_type": "stream",
          "text": [
            "25\n",
            "8\n",
            "Hola Jesus, ¿Como estas?\n",
            "30\n",
            "operacion no valida\n",
            "5.0\n",
            "2.3333333333333335\n",
            "5.0\n"
          ],
          "name": "stdout"
        }
      ]
    },
    {
      "cell_type": "code",
      "metadata": {
        "id": "_lg7K3Nz-il9",
        "outputId": "721a80e0-56c2-4008-e70c-53d53047eb56",
        "colab": {
          "base_uri": "https://localhost:8080/",
          "height": 272
        }
      },
      "source": [
        "# valores por defecto\n",
        "def comanda(primer, fuerte, postre=\"Galleta de animalito\"):\n",
        "  print(f\"De entrada pidio: { primer }\")\n",
        "  print(f\"De plato fuerte: { fuerte }\")\n",
        "  print(f\"Postre : { postre }\")\n",
        "\n",
        "comanda( \"sopa aguada\", \"Tortas de papa\", \"Gelatina de limon\")\n",
        "comanda( \"sopa aguada\", \"Tortas de papa\")\n",
        "\n",
        "#argumentos posicionales con tuplas *\n",
        "def comanda_2( *opciones ):\n",
        "  print(opciones)\n",
        "  print(f\"De entrada pidio: { opciones[0] }\")\n",
        "  print(f\"De plato fuerte: { opciones[1] }\")\n",
        "  print(f\"Postre : { opciones[2] }\")\n",
        "  print(f\"\\nIndicaciones extra:\")\n",
        "  for ind in opciones [3::1]:\n",
        "    print(f\"\\t {ind}\")\n",
        "\n",
        "comanda_2(\"sopa aguada\", \"Tortas de papa\", \"Gelatina de limon\", \n",
        "          \"Las tortas bien doradas\", \"traer dos limones\", \"y una coca fria\")\n",
        "\n",
        "\n"
      ],
      "execution_count": 42,
      "outputs": [
        {
          "output_type": "stream",
          "text": [
            "De entrada pidio: sopa aguada\n",
            "De plato fuerte: Tortas de papa\n",
            "Postre : Gelatina de limon\n",
            "De entrada pidio: sopa aguada\n",
            "De plato fuerte: Tortas de papa\n",
            "Postre : Galleta de animalito\n",
            "('sopa aguada', 'Tortas de papa', 'Gelatina de limon', 'Las tortas bien doradas', 'traer dos limones', 'y una coca fria')\n",
            "De entrada pidio: sopa aguada\n",
            "De plato fuerte: Tortas de papa\n",
            "Postre : Gelatina de limon\n",
            "\n",
            "Indicaciones extra:\n",
            "\t Las tortas bien doradas\n",
            "\t traer dos limones\n",
            "\t y una coca fria\n"
          ],
          "name": "stdout"
        }
      ]
    },
    {
      "cell_type": "code",
      "metadata": {
        "id": "ow2chJvRB7RS",
        "outputId": "d1187171-d57f-4825-d456-6ca96cdcd451",
        "colab": {
          "base_uri": "https://localhost:8080/",
          "height": 156
        }
      },
      "source": [
        "# argumentos posicionales con diccionarios\n",
        "\n",
        "def comanda_3(**opciones):\n",
        "  print(opciones)\n",
        "  for op in opciones.items():\n",
        "    print(f\"{op[0]} -> {op[1]}\")\n",
        "    \n",
        "comanda_3(primer=\"sopa aguada\", fuerte=\"Tortas de papa\", postre=\"Gelatina de limon\", \n",
        "          extra1=\"Las tortas bien doradas\", extra2=\"traer dos limones\", extra3=\"y una coca fria\")\n"
      ],
      "execution_count": 48,
      "outputs": [
        {
          "output_type": "stream",
          "text": [
            "{'primer': 'sopa aguada', 'fuerte': 'Tortas de papa', 'postre': 'Gelatina de limon', 'extra1': 'Las tortas bien doradas', 'extra2': 'traer dos limones', 'extra3': 'y una coca fria'}\n",
            "primer -> sopa aguada\n",
            "fuerte -> Tortas de papa\n",
            "postre -> Gelatina de limon\n",
            "extra1 -> Las tortas bien doradas\n",
            "extra2 -> traer dos limones\n",
            "extra3 -> y una coca fria\n"
          ],
          "name": "stdout"
        }
      ]
    },
    {
      "cell_type": "code",
      "metadata": {
        "id": "RRsLF13u-iXE"
      },
      "source": [
        ""
      ],
      "execution_count": null,
      "outputs": []
    }
  ]
}