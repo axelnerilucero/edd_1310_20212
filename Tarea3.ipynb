{
  "nbformat": 4,
  "nbformat_minor": 0,
  "metadata": {
    "colab": {
      "name": "Tarea3.ipynb",
      "provenance": [],
      "collapsed_sections": [],
      "authorship_tag": "ABX9TyNjjmAYETicXXClG6e+aa58",
      "include_colab_link": true
    },
    "kernelspec": {
      "name": "python3",
      "display_name": "Python 3"
    }
  },
  "cells": [
    {
      "cell_type": "markdown",
      "metadata": {
        "id": "view-in-github",
        "colab_type": "text"
      },
      "source": [
        "<a href=\"https://colab.research.google.com/github/axelnerilucero/edd_1310_2021/blob/master/Tarea3.ipynb\" target=\"_parent\"><img src=\"https://colab.research.google.com/assets/colab-badge.svg\" alt=\"Open In Colab\"/></a>"
      ]
    },
    {
      "cell_type": "code",
      "metadata": {
        "id": "VoZFXwVdWnVS",
        "outputId": "d6050ea9-af20-4328-d48a-0ae1cf74bf6d",
        "colab": {
          "base_uri": "https://localhost:8080/",
          "height": 68
        }
      },
      "source": [
        "class persona:\n",
        "  def __init__( self, n, ed, es )  :\n",
        "    self.__nombre = n\n",
        "    self.__edad = ed\n",
        "    self.__estatura = es\n",
        "  \n",
        "  def  to_string( self ):\n",
        "    return \"Mi nombre es: \"+ self.__nombre+ \", tengo \"+self.__edad+ \" años y mido \"+self.__estatura+\" metros\"\n",
        "\n",
        "  def dormir( self ):\n",
        "    print(f\"{self.__nombre} se encuentra durmiendo\")\n",
        "\n",
        "  def comer( self )  :\n",
        "    print(f\"{self.__nombre} esta comiendo un rico pozole\")\n",
        "\n",
        "yo = persona(\"Axel\", \"18\", \"1.68\")\n",
        "print(yo.to_string())\n",
        "yo.comer()\n",
        "yo.dormir()\n"
      ],
      "execution_count": 5,
      "outputs": [
        {
          "output_type": "stream",
          "text": [
            "Mi nombre es: Axel, tengo 18 años y mido 1.68 metros\n",
            "Axel esta comiendo un rico pozole\n",
            "Axel se encuentra durmiendo\n"
          ],
          "name": "stdout"
        }
      ]
    },
    {
      "cell_type": "code",
      "metadata": {
        "id": "a7PGq2YXYrpE",
        "outputId": "98bbdfe3-c1e4-4433-87be-60aadc07cb19",
        "colab": {
          "base_uri": "https://localhost:8080/",
          "height": 68
        }
      },
      "source": [
        "\n",
        "\n",
        "class celular:\n",
        "  def __init__( self, mar, mod, mem )  :\n",
        "    self.__marca = mar\n",
        "    self.__modelo = mod\n",
        "    self.__memoria = mem\n",
        "  \n",
        "  def  to_string( self ):\n",
        "    return \"Marca: \"+ self.__marca+ \", modelo: \"+self.__modelo+ \", espacio de memoria: \"+self.__memoria\n",
        "\n",
        "  def llamar( self ):\n",
        "    print(f\"Estas llamando a Axel\")\n",
        "\n",
        "  def alarma( self )  :\n",
        "    print(f\"La alarma ha sido programada a las 10:50 am\")\n",
        "\n",
        "moto = celular(\"Motorola\", \"Moto g8 play\", \"32 GB\")\n",
        "print(moto.to_string())\n",
        "moto.llamar()\n",
        "moto.alarma()\n"
      ],
      "execution_count": 13,
      "outputs": [
        {
          "output_type": "stream",
          "text": [
            "Marca: Motorola, modelo: Moto g8 play, espacio de memoria: 32 GB\n",
            "Estas llamando a Axel\n",
            "La alarma ha sido programada a las 10:50 am\n"
          ],
          "name": "stdout"
        }
      ]
    }
  ]
}