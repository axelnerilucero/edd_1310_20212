{
  "nbformat": 4,
  "nbformat_minor": 0,
  "metadata": {
    "colab": {
      "name": "8octubre_1310.ipynb",
      "provenance": [],
      "collapsed_sections": [],
      "authorship_tag": "ABX9TyMCvHGVgHbuOMBgB0pn1oEf",
      "include_colab_link": true
    },
    "kernelspec": {
      "name": "python3",
      "display_name": "Python 3"
    }
  },
  "cells": [
    {
      "cell_type": "markdown",
      "metadata": {
        "id": "view-in-github",
        "colab_type": "text"
      },
      "source": [
        "<a href=\"https://colab.research.google.com/github/axelnerilucero/edd_1310_2021/blob/master/8octubre_1310.ipynb\" target=\"_parent\"><img src=\"https://colab.research.google.com/assets/colab-badge.svg\" alt=\"Open In Colab\"/></a>"
      ]
    },
    {
      "cell_type": "code",
      "metadata": {
        "id": "dUUx0bxD_ejK",
        "outputId": "41729fc0-c74b-4f32-b5c3-52e02b65ef87",
        "colab": {
          "base_uri": "https://localhost:8080/",
          "height": 156
        }
      },
      "source": [
        "monitores =[[\"Samsung\",\"17.3 \\\"\",1024],[\"BenQ\",\"40\\\"\",2048]]\n",
        "procesadores = [[\"Intel\",\"i7\",3.4],[\"AMD\",\"razzer\",3.3],[\"Intel\",\"i3\",3.1]]\n",
        "memorias = [[\"Kingston\", \"8GB\",\"DDR4\"],[\"Kingston\", \"16GB\",\"DDR3\"],[\"ADATA\", \"32GB\",\"DDR4\"]]\n",
        "\n",
        "componentes = [monitores,procesadores,memorias]\n",
        "\n",
        "print (componentes)\n",
        "#mostrar elementos  de procesadores\n",
        "print(componentes[1])\n",
        "#mostrar 16GB\n",
        "print(componentes[2][1][1])\n",
        "#mostrar el doble de 2048\n",
        "print(componentes[0][1][2]*2 )\n",
        "#mostrar azz\n",
        "print(componentes[1][1][1][1:4:1])\n",
        "#mostrar ADATA en minusculas\n",
        "print(componentes[2][2][0].lower())\n",
        "\n",
        "\n",
        "componentes[2].append([\"Patito\", \"32 GB\", \"DDR4\"])\n",
        "print(componentes[2][3])\n",
        "\n"
      ],
      "execution_count": 25,
      "outputs": [
        {
          "output_type": "stream",
          "text": [
            "[[['Samsung', '17.3 \"', 1024], ['BenQ', '40\"', 2048]], [['Intel', 'i7', 3.4], ['AMD', 'razzer', 3.3], ['Intel', 'i3', 3.1]], [['Kingston', '8GB', 'DDR4'], ['Kingston', '16GB', 'DDR3'], ['ADATA', '32GB', 'DDR4']]]\n",
            "[['Intel', 'i7', 3.4], ['AMD', 'razzer', 3.3], ['Intel', 'i3', 3.1]]\n",
            "16GB\n",
            "4096\n",
            "azz\n",
            "adata\n",
            "['Patito', '32 GB', 'DDR4']\n"
          ],
          "name": "stdout"
        }
      ]
    },
    {
      "cell_type": "code",
      "metadata": {
        "id": "XBTSPeJoH3Ey",
        "outputId": "012fb0ff-2bb0-45a7-c5ce-8682de6a33b3",
        "colab": {
          "base_uri": "https://localhost:8080/",
          "height": 204
        }
      },
      "source": [
        "#copiar listas\n",
        "#extender listas\n",
        "\n",
        "frutas = [\"manzana\",\"pera\"]\n",
        "otras_frutas = [\"aguacate\",\"sandia\"]\n",
        "\n",
        "# + sobre listas\n",
        "frutas = frutas + otras_frutas\n",
        "print(frutas)\n",
        "#funcion extend\n",
        "frutas.extend(otras_frutas)\n",
        "print(frutas)\n",
        "\n",
        "\n",
        "frutas.append(otras_frutas)\n",
        "print(frutas)\n",
        "\n",
        "\n",
        "#copiar listas\n",
        "\n",
        "colores = [\"azul\", \"rojo\", \"verde\", \"violeta\"]\n",
        "otros_colores = colores\n",
        "\n",
        "print(colores)\n",
        "print(otros_colores)\n",
        "otros_colores.append(\"rosa\")\n",
        "print (colores)\n",
        "print(otros_colores)\n",
        "\n",
        "\n",
        "#Hacer una copia\n",
        "una_mas = colores.copy()\n",
        "print (una_mas)\n",
        "una_mas.append(\"gris\")\n",
        "print(una_mas)\n",
        "print(colores)\n",
        "\n",
        "\n",
        "#Unpacking de listas\n",
        "\n",
        "alumno = [\"Jesus\", \"Peres\", \"Herrera\", 22, \"ICO\", 10.0]\n",
        "nombre = alumno[0]\n",
        "paterno = alumno[1]\n",
        "#etc\n",
        "nombre, paterno, materno, edad, carrera, promedio = alumno\n",
        "print (f\"Alumno: {nombre} carrera: {carrera} promedio : {promedio}\" )\n",
        "\n"
      ],
      "execution_count": 27,
      "outputs": [
        {
          "output_type": "stream",
          "text": [
            "['manzana', 'pera', 'aguacate', 'sandia']\n",
            "['manzana', 'pera', 'aguacate', 'sandia', 'aguacate', 'sandia']\n",
            "['manzana', 'pera', 'aguacate', 'sandia', 'aguacate', 'sandia', ['aguacate', 'sandia']]\n",
            "['azul', 'rojo', 'verde', 'violeta']\n",
            "['azul', 'rojo', 'verde', 'violeta']\n",
            "['azul', 'rojo', 'verde', 'violeta', 'rosa']\n",
            "['azul', 'rojo', 'verde', 'violeta', 'rosa']\n",
            "['azul', 'rojo', 'verde', 'violeta', 'rosa']\n",
            "['azul', 'rojo', 'verde', 'violeta', 'rosa', 'gris']\n",
            "['azul', 'rojo', 'verde', 'violeta', 'rosa']\n",
            "Alumno: Jesus carrera: ICO promedio : 10.0\n"
          ],
          "name": "stdout"
        }
      ]
    },
    {
      "cell_type": "markdown",
      "metadata": {
        "id": "QoVBOs8CR4uM"
      },
      "source": [
        "#Tuplas \n",
        "- se declaran con ( )\n",
        "- selector con corchetes [ ]\n",
        "- NO son mutables"
      ]
    },
    {
      "cell_type": "code",
      "metadata": {
        "id": "5vVcw3vwSMin",
        "outputId": "683d338d-5d7b-4816-901d-4436a75f8695",
        "colab": {
          "base_uri": "https://localhost:8080/",
          "height": 68
        }
      },
      "source": [
        "precios = (99.9, 49.9, 12.45, 23.3, 33.44, 55.56)\n",
        "#agrupamiento igual que listas pero selector cambia\n",
        "#Selector es igual \n",
        "\n",
        "print (precios[1])\n",
        "#No sirven para modificar\n",
        "#Lista de valores constantes\n",
        "#precios [1] = 50.0\n",
        "\n",
        "print(precios)\n",
        "#Slicing\n",
        "print(precios[2:4])\n"
      ],
      "execution_count": 37,
      "outputs": [
        {
          "output_type": "stream",
          "text": [
            "49.9\n",
            "(99.9, 49.9, 12.45, 23.3, 33.44, 55.56)\n",
            "(12.45, 23.3)\n"
          ],
          "name": "stdout"
        }
      ]
    },
    {
      "cell_type": "markdown",
      "metadata": {
        "id": "CGeIZ3ZHTjdt"
      },
      "source": [
        "#Diccionarios\n",
        "\n",
        "- se declara con llaves { }\n",
        "- son mutables \n",
        "- son conjuntos de pares llave:valor\n",
        "- equivalente a los objetos JSON de Javascript\n",
        "- el selctor [ str ] en lugar de numero"
      ]
    },
    {
      "cell_type": "code",
      "metadata": {
        "id": "do_FttGhTVTa",
        "outputId": "bc9e37f2-e808-4925-938e-81d5621dd9c5",
        "colab": {
          "base_uri": "https://localhost:8080/",
          "height": 122
        }
      },
      "source": [
        "cliente = {  }\n",
        "\n",
        "print(cliente)\n",
        "alumno = {   \"nun_cta\" : 317102983 }\n",
        "print(alumno)\n",
        "\n",
        "alumno = {\n",
        "          \"num_cta\" : 317102983, \n",
        "          \"carrera\" : \"ico\",\n",
        "          \"promedio\" : 9.8,\n",
        "          \"Materias\" : [\"EDD\", \"cyP\", \"calidad\", \"Emprendimiento\"],\n",
        "          \"Direccion\" : {\n",
        "                         \"Calle\" : \"ranchoseco\",\n",
        "                         \"numero\" : \"23\",\n",
        "                         \"delegacion\" : \"Neza\",\n",
        "                         \"estado\" : {\n",
        "                                     \"id\" : 15,\n",
        "                                     \"Nombre\" : \"Estado de Mexico\",\n",
        "                                     \"nombre_corto\" : \"edomex\"\n",
        "                                    },\n",
        "                         \"cp\" : 57170\n",
        "                        }\n",
        "          }\n",
        "print(alumno)\n",
        "print(alumno[\"Materias\"])\n",
        "print(alumno['Direccion']['estado']['nombre_corto'])"
      ],
      "execution_count": 49,
      "outputs": [
        {
          "output_type": "stream",
          "text": [
            "{}\n",
            "{'nun_cta': 317102983}\n",
            "{'num_cta': 317102983, 'carrera': 'ico', 'promedio': 9.8, 'Materias': ['EDD', 'cyP', 'calidad', 'Emprendimiento'], 'Direccion': {'Calle': 'ranchoseco', 'numero': '23', 'delegacion': 'Neza', 'estado': {'id': 15, 'Nombre': 'Estado de Mexico', 'nombre_corto': 'edomex'}, 'cp': 57170}}\n",
            "['EDD', 'cyP', 'calidad', 'Emprendimiento']\n",
            "edomex\n"
          ],
          "name": "stdout"
        }
      ]
    },
    {
      "cell_type": "code",
      "metadata": {
        "id": "QBuyyFu1Sn6r"
      },
      "source": [
        ""
      ],
      "execution_count": null,
      "outputs": []
    }
  ]
}