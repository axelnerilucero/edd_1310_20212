{
  "nbformat": 4,
  "nbformat_minor": 0,
  "metadata": {
    "colab": {
      "name": "1octubre_1310.ipynb",
      "provenance": [],
      "collapsed_sections": [],
      "authorship_tag": "ABX9TyOlz+6Mp0VEqOIoDeeHeIyC",
      "include_colab_link": true
    },
    "kernelspec": {
      "name": "python3",
      "display_name": "Python 3"
    }
  },
  "cells": [
    {
      "cell_type": "markdown",
      "metadata": {
        "id": "view-in-github",
        "colab_type": "text"
      },
      "source": [
        "<a href=\"https://colab.research.google.com/github/axelnerilucero/edd_1310_2021/blob/master/1octubre_1310.ipynb\" target=\"_parent\"><img src=\"https://colab.research.google.com/assets/colab-badge.svg\" alt=\"Open In Colab\"/></a>"
      ]
    },
    {
      "cell_type": "code",
      "metadata": {
        "id": "oAFTqzBU728x"
      },
      "source": [
        ""
      ],
      "execution_count": null,
      "outputs": []
    },
    {
      "cell_type": "markdown",
      "metadata": {
        "id": "njKn9C8T8GNY"
      },
      "source": [
        "##Intro Python\n",
        "#Vaiables\n",
        " Tipo dinámico\n",
        "\n",
        "escuela = FES Aragon\n"
      ]
    },
    {
      "cell_type": "code",
      "metadata": {
        "id": "66wB6b1G8nJc",
        "outputId": "548f8eed-eeab-40e0-9532-7883bd091306",
        "colab": {
          "base_uri": "https://localhost:8080/",
          "height": 170
        }
      },
      "source": [
        "escuela = \"FES Aragaon\"\n",
        "print (escuela)\n",
        "print (\"--------\")\n",
        "edad = 13\n",
        "estatura = 1.67\n",
        "fumador = True\n",
        "frase = \"\"\"\n",
        "Esta es\n",
        "una frase de \n",
        "multiples lineas \n",
        "y tambien es\n",
        "un tipo de dato\n",
        "\"\"\"\n",
        "print (frase)\n",
        "nombre = 'Jose'\n",
        "nombre_completo = \"jose sosa cardenas\"\n",
        "\n",
        "\n"
      ],
      "execution_count": 6,
      "outputs": [
        {
          "output_type": "stream",
          "text": [
            "FES Aragaon\n",
            "--------\n",
            "\n",
            "Esta es\n",
            "una frase de \n",
            "multiples lineas \n",
            "y tambien es\n",
            "un tipo de dato\n",
            "\n"
          ],
          "name": "stdout"
        }
      ]
    },
    {
      "cell_type": "markdown",
      "metadata": {
        "id": "QrdB423y91ZV"
      },
      "source": [
        "# Print \n",
        "con comas ,\n",
        "\n",
        "con signo mas +\n",
        "\n",
        "con format ()\n",
        "\n",
        "con el operador f \"\"\n"
      ]
    },
    {
      "cell_type": "code",
      "metadata": {
        "id": "hdYMBFeg-AP5",
        "outputId": "c410da27-9262-47dc-beac-03009a492649",
        "colab": {
          "base_uri": "https://localhost:8080/",
          "height": 34
        }
      },
      "source": [
        "#Print con coma ,\n",
        "print(nombre, edad)"
      ],
      "execution_count": 7,
      "outputs": [
        {
          "output_type": "stream",
          "text": [
            "Jose 13\n"
          ],
          "name": "stdout"
        }
      ]
    },
    {
      "cell_type": "code",
      "metadata": {
        "id": "8wCDGpIQ-6WS",
        "outputId": "e8d326c5-f504-472d-866c-b1f7e691aa81",
        "colab": {
          "base_uri": "https://localhost:8080/",
          "height": 51
        }
      },
      "source": [
        "# + concatena\n",
        "print (nombre + str(edad))\n",
        "print (nombre + nombre_completo)"
      ],
      "execution_count": 11,
      "outputs": [
        {
          "output_type": "stream",
          "text": [
            "Jose13\n",
            "JoseJose Sosa Cardenas\n"
          ],
          "name": "stdout"
        }
      ]
    },
    {
      "cell_type": "code",
      "metadata": {
        "id": "TOwv3sREAKtn",
        "outputId": "5474b357-b0bb-4d06-b7f1-e2b3ed116fb6",
        "colab": {
          "base_uri": "https://localhost:8080/",
          "height": 68
        }
      },
      "source": [
        "#con formato -> Nombre: Jose y su edad es de 13 años.\n",
        "print (\"Su nombre es\", nombre, \"y su edad es de\", edad, \"años.\")\n",
        "\n",
        "#formato\n",
        "print (\"Su nombre es {0} y su edad es de {1} años.\".format(nombre,edad))\n",
        "print (\"Su nombre es {1} y su edad es de {0} años.\".format(nombre,edad))"
      ],
      "execution_count": 15,
      "outputs": [
        {
          "output_type": "stream",
          "text": [
            "Su nombre es Jose y su edad es de 13 años.\n",
            "Su nombre es Jose y su edad es de 13 años.\n",
            "Su nombre es 13 y su edad es de Jose años.\n"
          ],
          "name": "stdout"
        }
      ]
    },
    {
      "cell_type": "code",
      "metadata": {
        "id": "u22Dg4CrBuDd",
        "outputId": "3a80354c-36a5-4208-c9f1-dc7f77bd13c0",
        "colab": {
          "base_uri": "https://localhost:8080/",
          "height": 34
        }
      },
      "source": [
        "#Con formato con el operador f\"\"\n",
        "#Forma mas usada en el semestre\n",
        "print(f\"Su nombre es {nombre} y su edad es de {edad} años.\")\n"
      ],
      "execution_count": 16,
      "outputs": [
        {
          "output_type": "stream",
          "text": [
            "Su nombre es Jose y su edad es de 13 años.\n"
          ],
          "name": "stdout"
        }
      ]
    },
    {
      "cell_type": "markdown",
      "metadata": {
        "id": "fHjTHBsxCkW_"
      },
      "source": [
        "# caracter de escape \n",
        "\\n salto de linea\n",
        "\n",
        "\\t tabulador\n",
        "\n",
        "\\a beep\n",
        "\n",
        "\\\\\" imprimir comilla doble\n",
        "\n",
        "\\\\' imprimir comilla simple\n",
        "\n"
      ]
    },
    {
      "cell_type": "code",
      "metadata": {
        "id": "qzCK0jw0DtbE",
        "outputId": "b7e8746b-e8ff-4300-e398-1b7be59d6861",
        "colab": {
          "base_uri": "https://localhost:8080/",
          "height": 51
        }
      },
      "source": [
        "\"\"\"\n",
        "Esto es \n",
        "un comentario \n",
        "de multiple linea \n",
        "tan tan\n",
        "\"\"\"\n",
        "print(f\"\\tMi nombre es\\n\\t\\t{nombre}\" )"
      ],
      "execution_count": 17,
      "outputs": [
        {
          "output_type": "stream",
          "text": [
            "\tMi nombre es\n",
            "\t\tJose\n"
          ],
          "name": "stdout"
        }
      ]
    },
    {
      "cell_type": "markdown",
      "metadata": {
        "id": "rKfWXpwsEMpN"
      },
      "source": [
        "#Ayuda de tipos de dato en python\n",
        "dir() help()"
      ]
    },
    {
      "cell_type": "code",
      "metadata": {
        "id": "3n462rViEQ4E"
      },
      "source": [
        "# str, int, float, bool, ... list, dict, set\n",
        "help(str)\n",
        "dir(str)"
      ],
      "execution_count": null,
      "outputs": []
    },
    {
      "cell_type": "code",
      "metadata": {
        "id": "wpOgOtmGFOLJ",
        "outputId": "970eff3c-221f-42de-c17e-812e231e11bb",
        "colab": {
          "base_uri": "https://localhost:8080/",
          "height": 51
        }
      },
      "source": [
        "print(nombre_completo.capitalize())\n",
        "print(nombre_completo.upper(), end = \"-----\")\n",
        "print(nombre_completo.title())\n"
      ],
      "execution_count": 26,
      "outputs": [
        {
          "output_type": "stream",
          "text": [
            "Jose sosa cardenas\n",
            "JOSE SOSA CARDENAS-----Jose Sosa Cardenas\n"
          ],
          "name": "stdout"
        }
      ]
    },
    {
      "cell_type": "code",
      "metadata": {
        "id": "9LJ76dp8GASW"
      },
      "source": [
        "help(print)"
      ],
      "execution_count": null,
      "outputs": []
    },
    {
      "cell_type": "markdown",
      "metadata": {
        "id": "IsHZW_QDGrHt"
      },
      "source": [
        "# class String\n",
        "Es manejada como un arreglo (c o java) o lista (python)\n",
        "\n",
        "telefono = \"Huawei mate 30 pro\"\n",
        "print(telefono[0])"
      ]
    },
    {
      "cell_type": "code",
      "metadata": {
        "id": "HcDCM-ClHGi-",
        "outputId": "8889270b-d401-4b38-9aa6-c076f75c1e41",
        "colab": {
          "base_uri": "https://localhost:8080/",
          "height": 34
        }
      },
      "source": [
        "telefono = \"Huawei mate 30 pro\"\n",
        "print(telefono[0])"
      ],
      "execution_count": 29,
      "outputs": [
        {
          "output_type": "stream",
          "text": [
            "H\n"
          ],
          "name": "stdout"
        }
      ]
    },
    {
      "cell_type": "markdown",
      "metadata": {
        "id": "hTpBUzjrIJ2T"
      },
      "source": [
        "#Slicing (rebanado)\n",
        "\n",
        "[inicio:stop:incremento]\n",
        "\n",
        "el stop no se incluye, termina en el vaor anterior al stop"
      ]
    },
    {
      "cell_type": "code",
      "metadata": {
        "id": "mns6cmukIbuf",
        "outputId": "ee30ecc7-ec47-45c8-e616-91835b252f26",
        "colab": {
          "base_uri": "https://localhost:8080/",
          "height": 119
        }
      },
      "source": [
        "print (telefono[7:11:1])\n",
        "# el inicio y el incremento son opcionales\n",
        "print (telefono[:11:])\n",
        "# el valor por defecto de stop es len(str)\n",
        "print (telefono[::])\n",
        "# incremento negativo\n",
        "print (telefono[::-1])\n",
        "# Slicing negativo\n",
        "ini =-3\n",
        "inc = 1\n",
        "print (telefono[ini::inc])\n",
        "print (telefono[-3::1])\n"
      ],
      "execution_count": 40,
      "outputs": [
        {
          "output_type": "stream",
          "text": [
            "mate\n",
            "Huawei mate\n",
            "Huawei mate 30 pro\n",
            "orp 03 etam iewauH\n",
            "pro\n",
            "pro\n"
          ],
          "name": "stdout"
        }
      ]
    },
    {
      "cell_type": "markdown",
      "metadata": {
        "id": "C2XuYLAgNK7p"
      },
      "source": [
        "# métodos de string (str)\n",
        "Existen métodos muy utiles en esta clase.\n"
      ]
    },
    {
      "cell_type": "code",
      "metadata": {
        "id": "4CMnd5c5FOCw",
        "outputId": "8e25e151-c820-4747-d7d6-7b06d5ba497d",
        "colab": {
          "base_uri": "https://localhost:8080/",
          "height": 374
        }
      },
      "source": [
        "facultad = \"    facultad de estudios superiores aragon      \\n\"\n",
        "#cuenta el numero de elementos en la cadena\n",
        "print (facultad.count(\"u\")) \n",
        "# muestra en que numero se encuentra algun caracter en su primera coincidencia\n",
        "print (facultad.find(\"s\"))\n",
        "#normal\n",
        "print (facultad)\n",
        "# Quita los espacios en blanco y saltos de linea\n",
        "print (facultad.strip())\n",
        "#todos los caracteres de la cadena (longitud del string)\n",
        "print (len(facultad))\n",
        "tamaño = len(facultad)\n",
        "print (f\"tamaño de la cadena es {tamaño} caracteres\")\n",
        "#dividir \n",
        "print (facultad.split(\"ta\"))\n",
        "print (facultad)\n",
        "#dividir y quitar \n",
        "print(facultad.strip().split(\" \"))\n",
        "\n",
        "\n",
        "\n",
        "print(\"----------\")\n",
        "#copiar cadenas \n",
        "otra_cadena = facultad \n",
        "print (otra_cadena)\n",
        "otra_cadena = \"FES Aragón\"\n",
        "print (facultad)\n",
        "print (otra_cadena)\n",
        "\n",
        "#copiar listas\n",
        "colores = [\"rojo\", \"verde\"]\n",
        "otra = colores.copy() \n",
        "print (colores)\n",
        "print (otra)\n",
        "otra.append(\"rosa\")\n",
        "print (colores)\n",
        "print (otra)"
      ],
      "execution_count": 67,
      "outputs": [
        {
          "output_type": "stream",
          "text": [
            "3\n",
            "17\n",
            "    facultad de estudios superiores aragon      \n",
            "\n",
            "facultad de estudios superiores aragon\n",
            "49\n",
            "tamaño de la cadena es 49 caracteres\n",
            "['    facul', 'd de estudios superiores aragon      \\n']\n",
            "    facultad de estudios superiores aragon      \n",
            "\n",
            "['facultad', 'de', 'estudios', 'superiores', 'aragon']\n",
            "----------\n",
            "    facultad de estudios superiores aragon      \n",
            "\n",
            "    facultad de estudios superiores aragon      \n",
            "\n",
            "FES Aragón\n",
            "['rojo', 'verde']\n",
            "['rojo', 'verde']\n",
            "['rojo', 'verde']\n",
            "['rojo', 'verde', 'rosa']\n"
          ],
          "name": "stdout"
        }
      ]
    }
  ]
}